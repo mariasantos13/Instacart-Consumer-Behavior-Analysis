{
 "cells": [
  {
   "cell_type": "markdown",
   "id": "3Xg_RQfnafXz",
   "metadata": {
    "id": "3Xg_RQfnafXz"
   },
   "source": [
    "# Análisis de Datos de Compras en Instacart: Comprendiendo el Comportamiento del Consumidor y Oportunidades de Mejora Estratégica"
   ]
  },
  {
   "cell_type": "markdown",
   "id": "mhIvmmkW414q",
   "metadata": {
    "id": "mhIvmmkW414q"
   },
   "source": [
    "## **Introducción**\n",
    "\n",
    "Instacart es una plataforma de entregas de comestibles que permite a los usuarios hacer pedidos en línea y recibirlos a domicilio, similar a Uber Eats y Door Dash. Este proyecto tiene como objetivo analizar estos datos y obtener insights que ayuden a entender el comportamiento de los clientes."
   ]
  },
  {
   "cell_type": "markdown",
   "id": "83d4d4d4",
   "metadata": {},
   "source": [
    "## **Objetivos del Proyecto**\n",
    "\n",
    "El propósito de este proyecto es realizar un análisis exhaustivo de los datos de pedidos de Instacart para obtener información clave sobre los hábitos de compra de los usuarios y las características de los productos más solicitados. Los objetivos específicos son los siguientes:\n",
    "\n",
    "1. **Explorar y entender la estructura de los datos**: Realizar un análisis inicial para identificar los elementos presentes en los datos, sus características y posibles problemas, como valores ausentes o duplicados.\n",
    "\n",
    "\n",
    "2. **Limpieza y preprocesamiento de los datos**: Detectar y corregir problemas en los datos, asegurando que estén listos para el análisis posterior, mediante la imputación de valores ausentes y la eliminación de duplicados.\n",
    "\n",
    "\n",
    "3. **Análisis exploratorio de los datos**:\n",
    "   - Identificar los patrones de compra según la hora del día y el día de la semana.\n",
    "   - Analizar la frecuencia de los pedidos y el tiempo que los usuarios esperan entre un pedido y otro.\n",
    "   - Determinar cuáles son los productos más comprados y los productos que los usuarios tienden a volver a comprar.\n",
    "   - Explorar cómo se distribuyen los pedidos en términos de cantidad de artículos y preferencias de los usuarios al agregar productos al carrito.\n",
    "\n",
    "\n",
    "4. **Ofrecer recomendaciones basadas en los datos**: Utilizar los resultados del análisis para proponer acciones que podrían mejorar la experiencia del cliente y optimizar las operaciones de Instacart, tales como ajustes en la gestión de inventarios y la personalización de ofertas y promociones."
   ]
  },
  {
   "cell_type": "markdown",
   "id": "OmlQPLlyaAfR",
   "metadata": {
    "id": "OmlQPLlyaAfR"
   },
   "source": [
    "## **Cargar Datos**"
   ]
  },
  {
   "cell_type": "code",
   "execution_count": 1,
   "id": "feab32a6",
   "metadata": {},
   "outputs": [
    {
     "name": "stdout",
     "output_type": "stream",
     "text": [
      "<class 'pandas.core.frame.DataFrame'>\n",
      "RangeIndex: 478967 entries, 0 to 478966\n",
      "Data columns (total 6 columns):\n",
      " #   Column                  Non-Null Count   Dtype  \n",
      "---  ------                  --------------   -----  \n",
      " 0   order_id                478967 non-null  int64  \n",
      " 1   user_id                 478967 non-null  int64  \n",
      " 2   order_number            478967 non-null  int64  \n",
      " 3   order_dow               478967 non-null  int64  \n",
      " 4   order_hour_of_day       478967 non-null  int64  \n",
      " 5   days_since_prior_order  450148 non-null  float64\n",
      "dtypes: float64(1), int64(5)\n",
      "memory usage: 21.9 MB\n"
     ]
    },
    {
     "data": {
      "text/html": [
       "<div>\n",
       "<style scoped>\n",
       "    .dataframe tbody tr th:only-of-type {\n",
       "        vertical-align: middle;\n",
       "    }\n",
       "\n",
       "    .dataframe tbody tr th {\n",
       "        vertical-align: top;\n",
       "    }\n",
       "\n",
       "    .dataframe thead th {\n",
       "        text-align: right;\n",
       "    }\n",
       "</style>\n",
       "<table border=\"1\" class=\"dataframe\">\n",
       "  <thead>\n",
       "    <tr style=\"text-align: right;\">\n",
       "      <th></th>\n",
       "      <th>order_id</th>\n",
       "      <th>user_id</th>\n",
       "      <th>order_number</th>\n",
       "      <th>order_dow</th>\n",
       "      <th>order_hour_of_day</th>\n",
       "      <th>days_since_prior_order</th>\n",
       "    </tr>\n",
       "  </thead>\n",
       "  <tbody>\n",
       "    <tr>\n",
       "      <th>0</th>\n",
       "      <td>1515936</td>\n",
       "      <td>183418</td>\n",
       "      <td>11</td>\n",
       "      <td>6</td>\n",
       "      <td>13</td>\n",
       "      <td>30.0</td>\n",
       "    </tr>\n",
       "    <tr>\n",
       "      <th>1</th>\n",
       "      <td>1690866</td>\n",
       "      <td>163593</td>\n",
       "      <td>5</td>\n",
       "      <td>5</td>\n",
       "      <td>12</td>\n",
       "      <td>9.0</td>\n",
       "    </tr>\n",
       "    <tr>\n",
       "      <th>2</th>\n",
       "      <td>1454967</td>\n",
       "      <td>39980</td>\n",
       "      <td>4</td>\n",
       "      <td>5</td>\n",
       "      <td>19</td>\n",
       "      <td>2.0</td>\n",
       "    </tr>\n",
       "    <tr>\n",
       "      <th>3</th>\n",
       "      <td>1768857</td>\n",
       "      <td>82516</td>\n",
       "      <td>56</td>\n",
       "      <td>0</td>\n",
       "      <td>20</td>\n",
       "      <td>10.0</td>\n",
       "    </tr>\n",
       "    <tr>\n",
       "      <th>4</th>\n",
       "      <td>3007858</td>\n",
       "      <td>196724</td>\n",
       "      <td>2</td>\n",
       "      <td>4</td>\n",
       "      <td>12</td>\n",
       "      <td>17.0</td>\n",
       "    </tr>\n",
       "  </tbody>\n",
       "</table>\n",
       "</div>"
      ],
      "text/plain": [
       "   order_id  user_id  order_number  order_dow  order_hour_of_day  \\\n",
       "0   1515936   183418            11          6                 13   \n",
       "1   1690866   163593             5          5                 12   \n",
       "2   1454967    39980             4          5                 19   \n",
       "3   1768857    82516            56          0                 20   \n",
       "4   3007858   196724             2          4                 12   \n",
       "\n",
       "   days_since_prior_order  \n",
       "0                    30.0  \n",
       "1                     9.0  \n",
       "2                     2.0  \n",
       "3                    10.0  \n",
       "4                    17.0  "
      ]
     },
     "metadata": {},
     "output_type": "display_data"
    },
    {
     "name": "stdout",
     "output_type": "stream",
     "text": [
      "<class 'pandas.core.frame.DataFrame'>\n",
      "RangeIndex: 49694 entries, 0 to 49693\n",
      "Data columns (total 4 columns):\n",
      " #   Column         Non-Null Count  Dtype \n",
      "---  ------         --------------  ----- \n",
      " 0   product_id     49694 non-null  int64 \n",
      " 1   product_name   48436 non-null  object\n",
      " 2   aisle_id       49694 non-null  int64 \n",
      " 3   department_id  49694 non-null  int64 \n",
      "dtypes: int64(3), object(1)\n",
      "memory usage: 1.5+ MB\n"
     ]
    },
    {
     "data": {
      "text/html": [
       "<div>\n",
       "<style scoped>\n",
       "    .dataframe tbody tr th:only-of-type {\n",
       "        vertical-align: middle;\n",
       "    }\n",
       "\n",
       "    .dataframe tbody tr th {\n",
       "        vertical-align: top;\n",
       "    }\n",
       "\n",
       "    .dataframe thead th {\n",
       "        text-align: right;\n",
       "    }\n",
       "</style>\n",
       "<table border=\"1\" class=\"dataframe\">\n",
       "  <thead>\n",
       "    <tr style=\"text-align: right;\">\n",
       "      <th></th>\n",
       "      <th>product_id</th>\n",
       "      <th>product_name</th>\n",
       "      <th>aisle_id</th>\n",
       "      <th>department_id</th>\n",
       "    </tr>\n",
       "  </thead>\n",
       "  <tbody>\n",
       "    <tr>\n",
       "      <th>0</th>\n",
       "      <td>1</td>\n",
       "      <td>Chocolate Sandwich Cookies</td>\n",
       "      <td>61</td>\n",
       "      <td>19</td>\n",
       "    </tr>\n",
       "    <tr>\n",
       "      <th>1</th>\n",
       "      <td>2</td>\n",
       "      <td>All-Seasons Salt</td>\n",
       "      <td>104</td>\n",
       "      <td>13</td>\n",
       "    </tr>\n",
       "    <tr>\n",
       "      <th>2</th>\n",
       "      <td>3</td>\n",
       "      <td>Robust Golden Unsweetened Oolong Tea</td>\n",
       "      <td>94</td>\n",
       "      <td>7</td>\n",
       "    </tr>\n",
       "    <tr>\n",
       "      <th>3</th>\n",
       "      <td>4</td>\n",
       "      <td>Smart Ones Classic Favorites Mini Rigatoni Wit...</td>\n",
       "      <td>38</td>\n",
       "      <td>1</td>\n",
       "    </tr>\n",
       "    <tr>\n",
       "      <th>4</th>\n",
       "      <td>5</td>\n",
       "      <td>Green Chile Anytime Sauce</td>\n",
       "      <td>5</td>\n",
       "      <td>13</td>\n",
       "    </tr>\n",
       "  </tbody>\n",
       "</table>\n",
       "</div>"
      ],
      "text/plain": [
       "   product_id                                       product_name  aisle_id  \\\n",
       "0           1                         Chocolate Sandwich Cookies        61   \n",
       "1           2                                   All-Seasons Salt       104   \n",
       "2           3               Robust Golden Unsweetened Oolong Tea        94   \n",
       "3           4  Smart Ones Classic Favorites Mini Rigatoni Wit...        38   \n",
       "4           5                          Green Chile Anytime Sauce         5   \n",
       "\n",
       "   department_id  \n",
       "0             19  \n",
       "1             13  \n",
       "2              7  \n",
       "3              1  \n",
       "4             13  "
      ]
     },
     "metadata": {},
     "output_type": "display_data"
    },
    {
     "name": "stdout",
     "output_type": "stream",
     "text": [
      "<class 'pandas.core.frame.DataFrame'>\n",
      "RangeIndex: 134 entries, 0 to 133\n",
      "Data columns (total 2 columns):\n",
      " #   Column    Non-Null Count  Dtype \n",
      "---  ------    --------------  ----- \n",
      " 0   aisle_id  134 non-null    int64 \n",
      " 1   aisle     134 non-null    object\n",
      "dtypes: int64(1), object(1)\n",
      "memory usage: 2.2+ KB\n"
     ]
    },
    {
     "data": {
      "text/html": [
       "<div>\n",
       "<style scoped>\n",
       "    .dataframe tbody tr th:only-of-type {\n",
       "        vertical-align: middle;\n",
       "    }\n",
       "\n",
       "    .dataframe tbody tr th {\n",
       "        vertical-align: top;\n",
       "    }\n",
       "\n",
       "    .dataframe thead th {\n",
       "        text-align: right;\n",
       "    }\n",
       "</style>\n",
       "<table border=\"1\" class=\"dataframe\">\n",
       "  <thead>\n",
       "    <tr style=\"text-align: right;\">\n",
       "      <th></th>\n",
       "      <th>aisle_id</th>\n",
       "      <th>aisle</th>\n",
       "    </tr>\n",
       "  </thead>\n",
       "  <tbody>\n",
       "    <tr>\n",
       "      <th>0</th>\n",
       "      <td>1</td>\n",
       "      <td>prepared soups salads</td>\n",
       "    </tr>\n",
       "    <tr>\n",
       "      <th>1</th>\n",
       "      <td>2</td>\n",
       "      <td>specialty cheeses</td>\n",
       "    </tr>\n",
       "    <tr>\n",
       "      <th>2</th>\n",
       "      <td>3</td>\n",
       "      <td>energy granola bars</td>\n",
       "    </tr>\n",
       "    <tr>\n",
       "      <th>3</th>\n",
       "      <td>4</td>\n",
       "      <td>instant foods</td>\n",
       "    </tr>\n",
       "    <tr>\n",
       "      <th>4</th>\n",
       "      <td>5</td>\n",
       "      <td>marinades meat preparation</td>\n",
       "    </tr>\n",
       "  </tbody>\n",
       "</table>\n",
       "</div>"
      ],
      "text/plain": [
       "   aisle_id                       aisle\n",
       "0         1       prepared soups salads\n",
       "1         2           specialty cheeses\n",
       "2         3         energy granola bars\n",
       "3         4               instant foods\n",
       "4         5  marinades meat preparation"
      ]
     },
     "metadata": {},
     "output_type": "display_data"
    },
    {
     "name": "stdout",
     "output_type": "stream",
     "text": [
      "<class 'pandas.core.frame.DataFrame'>\n",
      "RangeIndex: 21 entries, 0 to 20\n",
      "Data columns (total 2 columns):\n",
      " #   Column         Non-Null Count  Dtype \n",
      "---  ------         --------------  ----- \n",
      " 0   department_id  21 non-null     int64 \n",
      " 1   department     21 non-null     object\n",
      "dtypes: int64(1), object(1)\n",
      "memory usage: 464.0+ bytes\n"
     ]
    },
    {
     "data": {
      "text/html": [
       "<div>\n",
       "<style scoped>\n",
       "    .dataframe tbody tr th:only-of-type {\n",
       "        vertical-align: middle;\n",
       "    }\n",
       "\n",
       "    .dataframe tbody tr th {\n",
       "        vertical-align: top;\n",
       "    }\n",
       "\n",
       "    .dataframe thead th {\n",
       "        text-align: right;\n",
       "    }\n",
       "</style>\n",
       "<table border=\"1\" class=\"dataframe\">\n",
       "  <thead>\n",
       "    <tr style=\"text-align: right;\">\n",
       "      <th></th>\n",
       "      <th>department_id</th>\n",
       "      <th>department</th>\n",
       "    </tr>\n",
       "  </thead>\n",
       "  <tbody>\n",
       "    <tr>\n",
       "      <th>0</th>\n",
       "      <td>1</td>\n",
       "      <td>frozen</td>\n",
       "    </tr>\n",
       "    <tr>\n",
       "      <th>1</th>\n",
       "      <td>2</td>\n",
       "      <td>other</td>\n",
       "    </tr>\n",
       "    <tr>\n",
       "      <th>2</th>\n",
       "      <td>3</td>\n",
       "      <td>bakery</td>\n",
       "    </tr>\n",
       "    <tr>\n",
       "      <th>3</th>\n",
       "      <td>4</td>\n",
       "      <td>produce</td>\n",
       "    </tr>\n",
       "    <tr>\n",
       "      <th>4</th>\n",
       "      <td>5</td>\n",
       "      <td>alcohol</td>\n",
       "    </tr>\n",
       "  </tbody>\n",
       "</table>\n",
       "</div>"
      ],
      "text/plain": [
       "   department_id department\n",
       "0              1     frozen\n",
       "1              2      other\n",
       "2              3     bakery\n",
       "3              4    produce\n",
       "4              5    alcohol"
      ]
     },
     "metadata": {},
     "output_type": "display_data"
    },
    {
     "name": "stdout",
     "output_type": "stream",
     "text": [
      "<class 'pandas.core.frame.DataFrame'>\n",
      "RangeIndex: 4545007 entries, 0 to 4545006\n",
      "Data columns (total 4 columns):\n",
      " #   Column             Dtype  \n",
      "---  ------             -----  \n",
      " 0   order_id           int64  \n",
      " 1   product_id         int64  \n",
      " 2   add_to_cart_order  float64\n",
      " 3   reordered          int64  \n",
      "dtypes: float64(1), int64(3)\n",
      "memory usage: 138.7 MB\n"
     ]
    },
    {
     "data": {
      "text/html": [
       "<div>\n",
       "<style scoped>\n",
       "    .dataframe tbody tr th:only-of-type {\n",
       "        vertical-align: middle;\n",
       "    }\n",
       "\n",
       "    .dataframe tbody tr th {\n",
       "        vertical-align: top;\n",
       "    }\n",
       "\n",
       "    .dataframe thead th {\n",
       "        text-align: right;\n",
       "    }\n",
       "</style>\n",
       "<table border=\"1\" class=\"dataframe\">\n",
       "  <thead>\n",
       "    <tr style=\"text-align: right;\">\n",
       "      <th></th>\n",
       "      <th>order_id</th>\n",
       "      <th>product_id</th>\n",
       "      <th>add_to_cart_order</th>\n",
       "      <th>reordered</th>\n",
       "    </tr>\n",
       "  </thead>\n",
       "  <tbody>\n",
       "    <tr>\n",
       "      <th>0</th>\n",
       "      <td>2141543</td>\n",
       "      <td>11440</td>\n",
       "      <td>17.0</td>\n",
       "      <td>0</td>\n",
       "    </tr>\n",
       "    <tr>\n",
       "      <th>1</th>\n",
       "      <td>567889</td>\n",
       "      <td>1560</td>\n",
       "      <td>1.0</td>\n",
       "      <td>1</td>\n",
       "    </tr>\n",
       "    <tr>\n",
       "      <th>2</th>\n",
       "      <td>2261212</td>\n",
       "      <td>26683</td>\n",
       "      <td>1.0</td>\n",
       "      <td>1</td>\n",
       "    </tr>\n",
       "    <tr>\n",
       "      <th>3</th>\n",
       "      <td>491251</td>\n",
       "      <td>8670</td>\n",
       "      <td>35.0</td>\n",
       "      <td>1</td>\n",
       "    </tr>\n",
       "    <tr>\n",
       "      <th>4</th>\n",
       "      <td>2571142</td>\n",
       "      <td>1940</td>\n",
       "      <td>5.0</td>\n",
       "      <td>1</td>\n",
       "    </tr>\n",
       "  </tbody>\n",
       "</table>\n",
       "</div>"
      ],
      "text/plain": [
       "   order_id  product_id  add_to_cart_order  reordered\n",
       "0   2141543       11440               17.0          0\n",
       "1    567889        1560                1.0          1\n",
       "2   2261212       26683                1.0          1\n",
       "3    491251        8670               35.0          1\n",
       "4   2571142        1940                5.0          1"
      ]
     },
     "metadata": {},
     "output_type": "display_data"
    }
   ],
   "source": [
    "# Importar las librerías necesarias\n",
    "import pandas as pd\n",
    "import matplotlib.pyplot as plt\n",
    "import numpy as np\n",
    "import seaborn as sns\n",
    "\n",
    "# Función para cargar y mostrar un DataFrame\n",
    "def cargar_y_mostrar_info(nombre_archivo, sep=';', num_filas=5):\n",
    "    df = pd.read_csv(nombre_archivo, sep=sep)\n",
    "    df.info()\n",
    "    display(df.head(num_filas))\n",
    "    return df\n",
    "\n",
    "# Cargar los conjuntos de datos\n",
    "instacart_orders_df = cargar_y_mostrar_info('/datasets/instacart_orders.csv')\n",
    "products_df = cargar_y_mostrar_info('/datasets/products.csv')\n",
    "aisles_df = cargar_y_mostrar_info('/datasets/aisles.csv')\n",
    "departments_df = cargar_y_mostrar_info('/datasets/departments.csv')\n",
    "order_products_df = cargar_y_mostrar_info('/datasets/order_products.csv')"
   ]
  },
  {
   "cell_type": "code",
   "execution_count": 2,
   "id": "3eb4cb2b",
   "metadata": {},
   "outputs": [
    {
     "name": "stdout",
     "output_type": "stream",
     "text": [
      "Descripción del DataFrame 'instacart_orders_df':\n",
      "           order_id        user_id   order_number      order_dow  \\\n",
      "count  4.789670e+05  478967.000000  478967.000000  478967.000000   \n",
      "mean   1.709947e+06  102966.537475      17.157808       2.775058   \n",
      "std    9.869480e+05   59525.328991      17.704688       2.045869   \n",
      "min    4.000000e+00       2.000000       1.000000       0.000000   \n",
      "25%    8.564685e+05   51414.000000       5.000000       1.000000   \n",
      "50%    1.709522e+06  102633.000000      11.000000       3.000000   \n",
      "75%    2.562990e+06  154419.000000      23.000000       5.000000   \n",
      "max    3.421079e+06  206209.000000     100.000000       6.000000   \n",
      "\n",
      "       order_hour_of_day  days_since_prior_order  \n",
      "count      478967.000000           450148.000000  \n",
      "mean           13.446676               11.101751  \n",
      "std             4.224986                9.189975  \n",
      "min             0.000000                0.000000  \n",
      "25%            10.000000                4.000000  \n",
      "50%            13.000000                7.000000  \n",
      "75%            16.000000               15.000000  \n",
      "max            23.000000               30.000000  \n",
      "Descripción del DataFrame 'order_products_df':\n",
      "           order_id    product_id  add_to_cart_order     reordered\n",
      "count  4.545007e+06  4.545007e+06       4.544171e+06  4.545007e+06\n",
      "mean   1.711166e+06  2.558084e+04       8.351669e+00  5.905025e-01\n",
      "std    9.850955e+05  1.409552e+04       7.080368e+00  4.917411e-01\n",
      "min    4.000000e+00  1.000000e+00       1.000000e+00  0.000000e+00\n",
      "25%    8.608170e+05  1.353500e+04       3.000000e+00  0.000000e+00\n",
      "50%    1.711530e+06  2.527200e+04       6.000000e+00  1.000000e+00\n",
      "75%    2.561311e+06  3.793500e+04       1.100000e+01  1.000000e+00\n",
      "max    3.421079e+06  4.969400e+04       6.400000e+01  1.000000e+00\n"
     ]
    }
   ],
   "source": [
    "# Mostrar estadísticas descriptivas\n",
    "print(\"Descripción del DataFrame 'instacart_orders_df':\")\n",
    "print(instacart_orders_df.describe())\n",
    "\n",
    "print(\"Descripción del DataFrame 'order_products_df':\")\n",
    "print(order_products_df.describe())"
   ]
  },
  {
   "cell_type": "markdown",
   "id": "8RJHqxVmaVsF",
   "metadata": {
    "id": "8RJHqxVmaVsF"
   },
   "source": [
    "# Paso 2. Preprocesamiento de los datos"
   ]
  },
  {
   "cell_type": "markdown",
   "id": "p6poABZQaZYb",
   "metadata": {
    "id": "p6poABZQaZYb"
   },
   "source": [
    "## **Preparar Datos**"
   ]
  },
  {
   "cell_type": "markdown",
   "id": "33c686f0",
   "metadata": {},
   "source": [
    "### **Detección de Duplicados**"
   ]
  },
  {
   "cell_type": "markdown",
   "id": "e5f24cfc",
   "metadata": {},
   "source": [
    "#### instacart_orders_df"
   ]
  },
  {
   "cell_type": "code",
   "execution_count": 3,
   "id": "2861abc0",
   "metadata": {},
   "outputs": [
    {
     "name": "stdout",
     "output_type": "stream",
     "text": [
      "2125197    2\n",
      "1782114    2\n",
      "1286742    2\n",
      "391768     2\n",
      "1021560    2\n",
      "          ..\n",
      "1273706    1\n",
      "689148     1\n",
      "1752059    1\n",
      "2794488    1\n",
      "2047       1\n",
      "Name: order_id, Length: 478952, dtype: int64\n"
     ]
    }
   ],
   "source": [
    "# Revisar si hay pedidos duplicados \n",
    "print(instacart_orders_df['order_id'].value_counts())"
   ]
  },
  {
   "cell_type": "code",
   "execution_count": 4,
   "id": "51695ee5",
   "metadata": {},
   "outputs": [
    {
     "name": "stdout",
     "output_type": "stream",
     "text": [
      "        order_id  user_id  order_number  order_dow  order_hour_of_day  \\\n",
      "4838     2766110   162084            41          3                  2   \n",
      "5156     2190225   138285            18          3                  2   \n",
      "15506     553049    58599            13          3                  2   \n",
      "18420     382357   120200            19          3                  2   \n",
      "24691     690242    77357             2          3                  2   \n",
      "...          ...      ...           ...        ...                ...   \n",
      "457013   3384021    14881             6          3                  2   \n",
      "458816    910166   164782            18          3                  2   \n",
      "459635   1680532   106435             6          3                  2   \n",
      "468324    222962    54979            59          3                  2   \n",
      "477526   2592344    46860            38          3                  2   \n",
      "\n",
      "        days_since_prior_order  \n",
      "4838                      16.0  \n",
      "5156                      11.0  \n",
      "15506                      7.0  \n",
      "18420                     11.0  \n",
      "24691                      9.0  \n",
      "...                        ...  \n",
      "457013                    30.0  \n",
      "458816                     4.0  \n",
      "459635                    21.0  \n",
      "468324                     3.0  \n",
      "477526                     3.0  \n",
      "\n",
      "[121 rows x 6 columns]\n"
     ]
    }
   ],
   "source": [
    "# Verifica todos los pedidos que se hicieron el miércoles a las 2:00 a.m.\n",
    "miercoles_orders_2am = instacart_orders_df[(instacart_orders_df['order_dow'] == 3) & \n",
    "                                    (instacart_orders_df['order_hour_of_day'] == 2)]\n",
    "print(miercoles_orders_2am)"
   ]
  },
  {
   "cell_type": "code",
   "execution_count": 5,
   "id": "9ba1b11a",
   "metadata": {},
   "outputs": [
    {
     "name": "stdout",
     "output_type": "stream",
     "text": [
      "Empty DataFrame\n",
      "Columns: [order_id, user_id, order_number, order_dow, order_hour_of_day, days_since_prior_order]\n",
      "Index: []\n"
     ]
    }
   ],
   "source": [
    "# Eliminar los pedidos duplicados\n",
    "instacart_orders_df = instacart_orders_df.drop_duplicates(subset='order_id')\n",
    "\n",
    "# Vuelve a verificar si hay filas duplicadas\n",
    "duplicates = instacart_orders_df[instacart_orders_df.duplicated()]\n",
    "print(duplicates)"
   ]
  },
  {
   "cell_type": "code",
   "execution_count": 6,
   "id": "f92dc59c",
   "metadata": {},
   "outputs": [
    {
     "name": "stdout",
     "output_type": "stream",
     "text": [
      "1048576    1\n",
      "3389216    1\n",
      "1100604    1\n",
      "1275704    1\n",
      "2337103    1\n",
      "          ..\n",
      "1752059    1\n",
      "2794488    1\n",
      "711671     1\n",
      "1711087    1\n",
      "2047       1\n",
      "Name: order_id, Length: 478952, dtype: int64\n"
     ]
    }
   ],
   "source": [
    "# Vuelve a verificar únicamente si hay IDs duplicados de pedidos\n",
    "print(instacart_orders_df['order_id'].value_counts())"
   ]
  },
  {
   "cell_type": "markdown",
   "id": "bb7c4949",
   "metadata": {},
   "source": [
    "#### products_df"
   ]
  },
  {
   "cell_type": "code",
   "execution_count": 7,
   "id": "2f72aba6",
   "metadata": {},
   "outputs": [
    {
     "name": "stdout",
     "output_type": "stream",
     "text": [
      "Empty DataFrame\n",
      "Columns: [product_id, product_name, aisle_id, department_id]\n",
      "Index: []\n"
     ]
    }
   ],
   "source": [
    "# Verificar si hay filas totalmente duplicadas\n",
    "print(products_df[products_df.duplicated()])"
   ]
  },
  {
   "cell_type": "code",
   "execution_count": 8,
   "id": "31e5b5d7",
   "metadata": {},
   "outputs": [
    {
     "name": "stdout",
     "output_type": "stream",
     "text": [
      "11    6564\n",
      "19    6264\n",
      "13    5372\n",
      "7     4366\n",
      "1     4008\n",
      "16    3449\n",
      "17    3085\n",
      "15    2092\n",
      "9     1858\n",
      "4     1684\n",
      "3     1516\n",
      "20    1322\n",
      "21    1258\n",
      "6     1139\n",
      "14    1117\n",
      "18    1081\n",
      "5     1054\n",
      "8      972\n",
      "12     907\n",
      "2      548\n",
      "10      38\n",
      "Name: department_id, dtype: int64\n"
     ]
    }
   ],
   "source": [
    "# Revisar si hay ID de departamentos duplicados\n",
    "print(products_df['department_id'].value_counts())"
   ]
  },
  {
   "cell_type": "code",
   "execution_count": 9,
   "id": "36ce9d3b",
   "metadata": {},
   "outputs": [
    {
     "name": "stdout",
     "output_type": "stream",
     "text": [
      "GREEN TEA WITH GINSENG AND HONEY         3\n",
      "FAMILY SIZE LASAGNA WITH MEAT & SAUCE    2\n",
      "IBUPROFEN TABLETS 200 MG                 2\n",
      "RIGATONI WITH CHICKEN & PESTO            2\n",
      "CANDY BAR                                2\n",
      "                                        ..\n",
      "BLACK TEA ENGLISH BREAKFAST K-CUPS       1\n",
      "ZERO SODA                                1\n",
      "SMALL WHOLE BEETS                        1\n",
      "RIP-L FAMILY PACK POTATO CHIPS           1\n",
      "ORIGINAL CAT FOOD                        1\n",
      "Name: product_name_upper, Length: 48332, dtype: int64\n"
     ]
    }
   ],
   "source": [
    "# Revisar si hay nombres duplicados de productos (convertidos a mayúsculas)\n",
    "products_df['product_name_upper'] = products_df['product_name'].str.upper()\n",
    "duplicated_products = products_df[products_df['product_name_upper'].duplicated()]\n",
    "print(products_df['product_name_upper'].value_counts())"
   ]
  },
  {
   "cell_type": "code",
   "execution_count": 10,
   "id": "69b59fdf",
   "metadata": {},
   "outputs": [
    {
     "name": "stdout",
     "output_type": "stream",
     "text": [
      "GREEN TEA WITH GINSENG AND HONEY      2\n",
      "SALSA MEDIUM                          1\n",
      "COOKIES 'N CREAM ICE CREAM            1\n",
      "MATZO BALL MIX                        1\n",
      "VITAMIN D3 1000 IU                    1\n",
      "                                     ..\n",
      "SOLID WHITE ALBACORE TUNA IN WATER    1\n",
      "CAULIFLOWER HEAD                      1\n",
      "HEARTS OF PALM                        1\n",
      "LEAVE-IN CONDITIONER                  1\n",
      "ORGANIC BALSAMIC VINEGAR OF MODENA    1\n",
      "Name: product_name_upper, Length: 103, dtype: int64\n"
     ]
    }
   ],
   "source": [
    "# Revisar si hay nombres duplicados de productos no faltantes\n",
    "duplicated_products = products_df[products_df['product_name_upper'].duplicated()]\n",
    "print(duplicated_products['product_name_upper'].value_counts())"
   ]
  },
  {
   "cell_type": "markdown",
   "id": "49dc34a6",
   "metadata": {},
   "source": [
    "#### departments_df"
   ]
  },
  {
   "cell_type": "code",
   "execution_count": 11,
   "id": "db82fcc6",
   "metadata": {},
   "outputs": [
    {
     "name": "stdout",
     "output_type": "stream",
     "text": [
      "Empty DataFrame\n",
      "Columns: [department_id, department]\n",
      "Index: []\n"
     ]
    }
   ],
   "source": [
    "# Verificar si hay filas totalmente duplicadas\n",
    "print(departments_df[departments_df.duplicated()])"
   ]
  },
  {
   "cell_type": "code",
   "execution_count": 12,
   "id": "422ee770",
   "metadata": {},
   "outputs": [
    {
     "name": "stdout",
     "output_type": "stream",
     "text": [
      "1     1\n",
      "12    1\n",
      "20    1\n",
      "19    1\n",
      "18    1\n",
      "17    1\n",
      "16    1\n",
      "15    1\n",
      "14    1\n",
      "13    1\n",
      "11    1\n",
      "2     1\n",
      "10    1\n",
      "9     1\n",
      "8     1\n",
      "7     1\n",
      "6     1\n",
      "5     1\n",
      "4     1\n",
      "3     1\n",
      "21    1\n",
      "Name: department_id, dtype: int64\n"
     ]
    }
   ],
   "source": [
    "# Revisar si hay IDs duplicados de productos\n",
    "print(departments_df['department_id'].value_counts())"
   ]
  },
  {
   "cell_type": "markdown",
   "id": "098fbfd6",
   "metadata": {},
   "source": [
    "#### aisles_df"
   ]
  },
  {
   "cell_type": "code",
   "execution_count": 13,
   "id": "a7da5b05",
   "metadata": {},
   "outputs": [
    {
     "name": "stdout",
     "output_type": "stream",
     "text": [
      "Empty DataFrame\n",
      "Columns: [aisle_id, aisle]\n",
      "Index: []\n"
     ]
    }
   ],
   "source": [
    "# Verificar si hay filas totalmente duplicadas\n",
    "print(aisles_df[aisles_df.duplicated()])"
   ]
  },
  {
   "cell_type": "code",
   "execution_count": 14,
   "id": "f70421de",
   "metadata": {},
   "outputs": [
    {
     "name": "stdout",
     "output_type": "stream",
     "text": [
      "1      1\n",
      "85     1\n",
      "99     1\n",
      "98     1\n",
      "97     1\n",
      "      ..\n",
      "40     1\n",
      "39     1\n",
      "38     1\n",
      "37     1\n",
      "134    1\n",
      "Name: aisle_id, Length: 134, dtype: int64\n"
     ]
    }
   ],
   "source": [
    "# Revisar si hay IDs duplicados de pasillos\n",
    "print(aisles_df['aisle_id'].value_counts())"
   ]
  },
  {
   "cell_type": "markdown",
   "id": "3e182603",
   "metadata": {},
   "source": [
    "#### order_products_df"
   ]
  },
  {
   "cell_type": "code",
   "execution_count": 15,
   "id": "bf02f3d0",
   "metadata": {},
   "outputs": [
    {
     "name": "stdout",
     "output_type": "stream",
     "text": [
      "Empty DataFrame\n",
      "Columns: [order_id, product_id, add_to_cart_order, reordered]\n",
      "Index: []\n"
     ]
    }
   ],
   "source": [
    "# Verificar si hay filas totalmente duplicadas\n",
    "print(order_products_df[order_products_df.duplicated()])"
   ]
  },
  {
   "cell_type": "code",
   "execution_count": 16,
   "id": "2c4326ed",
   "metadata": {},
   "outputs": [
    {
     "name": "stdout",
     "output_type": "stream",
     "text": [
      "Empty DataFrame\n",
      "Columns: [order_id, product_id, add_to_cart_order, reordered]\n",
      "Index: []\n"
     ]
    }
   ],
   "source": [
    "# Volver a verificar si hay cualquier otro duplicado engañoso\n",
    "duplicated_rows = order_products_df[order_products_df.duplicated()]\n",
    "print(duplicated_rows)"
   ]
  },
  {
   "cell_type": "markdown",
   "id": "fd9f97e4",
   "metadata": {},
   "source": [
    "#### **Hallazgos**\n",
    "\n",
    "1. **`instacart_orders_df`**:\n",
    "   - **Hallazgos**: Se encontraron varias líneas duplicadas basadas en la columna `order_id`. Al eliminar estos duplicados, los pedidos del miércoles a las 2:00 a.m. mostraron un patrón interesante, con 121 pedidos realizados a esa hora.\n",
    "   - **Acciones**: Se eliminaron los duplicados en `order_id` y se verificó que todos los IDs de pedido fueran únicos.\n",
    "\n",
    "\n",
    "2. **`products_df`**:\n",
    "   - **Hallazgos**: No se encontraron filas completamente duplicadas. Sin embargo, se detectaron duplicados en los nombres de productos cuando se convirtieron a mayúsculas. Algunos productos, como \"GREEN TEA WITH GINSENG AND HONEY\", aparecieron varias veces.\n",
    "   - **Acciones**: Se identificaron los productos duplicados para un análisis posterior.\n",
    "\n",
    "\n",
    "3. **`departments_df`**:\n",
    "   - **Hallazgos**: No se encontraron filas duplicadas ni IDs de departamento duplicados. Todos los departamentos tienen un ID único.\n",
    "   - **Acciones**: Ninguna acción adicional fue requerida en este DataFrame.\n",
    "\n",
    "\n",
    "4. **`aisles_df`**:\n",
    "   - **Hallazgos**: No se encontraron filas duplicadas ni IDs de pasillo duplicados. Todos los pasillos tienen un ID único.\n",
    "   - **Acciones**: Ninguna acción adicional fue requerida en este DataFrame.\n",
    "\n",
    "\n",
    "5. **`order_products_df`**:\n",
    "   - **Hallazgos**: No se encontraron filas completamente duplicadas ni duplicados engañosos en este DataFrame.\n",
    "   - **Acciones**: Ninguna acción adicional fue necesaria."
   ]
  },
  {
   "cell_type": "markdown",
   "id": "22598d64",
   "metadata": {},
   "source": [
    "#### **Conclusiones**\n",
    "\n",
    "Se eliminaron duplicados significativos en el DataFrame de pedidos, lo que mejoró la calidad de los datos.\n",
    "En los DataFrames de productos, departamentos, pasillos y productos de pedido no se encontraron duplicados relevantes que requirieran intervención adicional."
   ]
  },
  {
   "cell_type": "markdown",
   "id": "e2f52ab7",
   "metadata": {},
   "source": [
    "### **Detección y Manejo de Valores Ausentes**\n"
   ]
  },
  {
   "cell_type": "markdown",
   "id": "0a66f96b",
   "metadata": {},
   "source": [
    "#### products_df"
   ]
  },
  {
   "cell_type": "code",
   "execution_count": 17,
   "id": "a9ae5504",
   "metadata": {},
   "outputs": [
    {
     "name": "stdout",
     "output_type": "stream",
     "text": [
      "NaN                                                    1258\n",
      "100% Pure Grapefruit                                      1\n",
      "Opadipity Greek Yogurt Creamy Ranch Dip                   1\n",
      "Wheat Thins Cheese Crunch 8oz                             1\n",
      "Instant Hand Sanitizer With Aloe                          1\n",
      "                                                       ... \n",
      "E Plus High C Natural Roll On Deodorant                   1\n",
      "Cacao Nibs                                                1\n",
      "Heavy Duty Large Drawstring Bags                          1\n",
      "Grated Cheese Parmesan                                    1\n",
      "Organic Baby Food- Sweet Potatoes Starting Solids 1       1\n",
      "Name: product_name, Length: 48437, dtype: int64\n"
     ]
    }
   ],
   "source": [
    "# Encontrar los valores ausentes en la columna 'product_name'\n",
    "print(products_df['product_name'].value_counts(dropna=False))"
   ]
  },
  {
   "cell_type": "code",
   "execution_count": 18,
   "id": "7f3a573f",
   "metadata": {},
   "outputs": [
    {
     "name": "stdout",
     "output_type": "stream",
     "text": [
      "       product_id product_name  aisle_id  department_id product_name_upper\n",
      "37             38          NaN       100             21                NaN\n",
      "71             72          NaN       100             21                NaN\n",
      "109           110          NaN       100             21                NaN\n",
      "296           297          NaN       100             21                NaN\n",
      "416           417          NaN       100             21                NaN\n",
      "...           ...          ...       ...            ...                ...\n",
      "49552       49553          NaN       100             21                NaN\n",
      "49574       49575          NaN       100             21                NaN\n",
      "49640       49641          NaN       100             21                NaN\n",
      "49663       49664          NaN       100             21                NaN\n",
      "49668       49669          NaN       100             21                NaN\n",
      "\n",
      "[1258 rows x 5 columns]\n"
     ]
    }
   ],
   "source": [
    "# Filtrar los productos con valores ausentes en 'product_name' y el pasillo con ID 100\n",
    "missing_product_names = products_df[(products_df['product_name'].isna()) & (products_df['aisle_id'] == 100)]\n",
    "print(missing_product_names)"
   ]
  },
  {
   "cell_type": "code",
   "execution_count": 19,
   "id": "026b53de",
   "metadata": {},
   "outputs": [
    {
     "name": "stdout",
     "output_type": "stream",
     "text": [
      "       product_id product_name  aisle_id  department_id product_name_upper\n",
      "37             38          NaN       100             21                NaN\n",
      "71             72          NaN       100             21                NaN\n",
      "109           110          NaN       100             21                NaN\n",
      "296           297          NaN       100             21                NaN\n",
      "416           417          NaN       100             21                NaN\n",
      "...           ...          ...       ...            ...                ...\n",
      "49552       49553          NaN       100             21                NaN\n",
      "49574       49575          NaN       100             21                NaN\n",
      "49640       49641          NaN       100             21                NaN\n",
      "49663       49664          NaN       100             21                NaN\n",
      "49668       49669          NaN       100             21                NaN\n",
      "\n",
      "[1258 rows x 5 columns]\n"
     ]
    }
   ],
   "source": [
    "# Filtrar los productos con valores ausentes en 'product_name' y el departamento con ID 21\n",
    "missing_product_names_dept_21 = products_df[(products_df['product_name'].isna()) & (products_df['department_id'] == 21)]\n",
    "print(missing_product_names_dept_21)"
   ]
  },
  {
   "cell_type": "code",
   "execution_count": 20,
   "id": "13021417",
   "metadata": {},
   "outputs": [
    {
     "name": "stdout",
     "output_type": "stream",
     "text": [
      "Pasillo con ID 100:\n",
      "    aisle_id    aisle\n",
      "99       100  missing\n",
      "\n",
      "Departamento con ID 21:\n",
      "    department_id department\n",
      "20             21    missing\n"
     ]
    }
   ],
   "source": [
    "# Usar las tablas department y aisle para revisar los datos del pasillo con ID 100 y el departamento con ID 21\n",
    "aisle_100 = aisles_df[aisles_df['aisle_id'] == 100]\n",
    "department_21 = departments_df[departments_df['department_id'] == 21]\n",
    "print(\"Pasillo con ID 100:\")\n",
    "print(aisle_100)\n",
    "print(\"\\nDepartamento con ID 21:\")\n",
    "print(department_21)"
   ]
  },
  {
   "cell_type": "code",
   "execution_count": 21,
   "id": "4271b273",
   "metadata": {},
   "outputs": [],
   "source": [
    "# Completar los nombres de productos ausentes con 'Unknown'\n",
    "products_df['product_name'].fillna('Unknown', inplace=True)"
   ]
  },
  {
   "cell_type": "markdown",
   "id": "90fb3161",
   "metadata": {},
   "source": [
    "#### instacart_orders_df"
   ]
  },
  {
   "cell_type": "code",
   "execution_count": 22,
   "id": "dfa7c4ef",
   "metadata": {},
   "outputs": [
    {
     "name": "stdout",
     "output_type": "stream",
     "text": [
      "order_id                      0\n",
      "user_id                       0\n",
      "order_number                  0\n",
      "order_dow                     0\n",
      "order_hour_of_day             0\n",
      "days_since_prior_order    28817\n",
      "dtype: int64\n"
     ]
    }
   ],
   "source": [
    "# Encontrar los valores ausentes\n",
    "missing_values_orders = instacart_orders_df.isnull().sum()\n",
    "print(missing_values_orders)"
   ]
  },
  {
   "cell_type": "code",
   "execution_count": 23,
   "id": "38295cd8",
   "metadata": {},
   "outputs": [
    {
     "name": "stdout",
     "output_type": "stream",
     "text": [
      "True\n"
     ]
    }
   ],
   "source": [
    "# Verificar si los valores ausentes en 'days_since_prior_order' no son del primer pedido\n",
    "print(missing_values_orders['days_since_prior_order'] > 0)"
   ]
  },
  {
   "cell_type": "markdown",
   "id": "e08f3442",
   "metadata": {},
   "source": [
    "#### order_products_df"
   ]
  },
  {
   "cell_type": "code",
   "execution_count": 24,
   "id": "54c38659",
   "metadata": {},
   "outputs": [
    {
     "name": "stdout",
     "output_type": "stream",
     "text": [
      "order_id               0\n",
      "product_id             0\n",
      "add_to_cart_order    836\n",
      "reordered              0\n",
      "dtype: int64\n"
     ]
    }
   ],
   "source": [
    "# Encontrar los valores ausentes\n",
    "missing_values_order_products = order_products_df.isnull().sum()\n",
    "print(missing_values_order_products)"
   ]
  },
  {
   "cell_type": "code",
   "execution_count": 25,
   "id": "a299f54a",
   "metadata": {},
   "outputs": [
    {
     "name": "stdout",
     "output_type": "stream",
     "text": [
      "1.0 64.0\n"
     ]
    }
   ],
   "source": [
    "# Revisar el rango de 'add_to_cart_order' para identificar valores extremos\n",
    "print(order_products_df['add_to_cart_order'].min(), order_products_df['add_to_cart_order'].max())"
   ]
  },
  {
   "cell_type": "code",
   "execution_count": 26,
   "id": "4e4bfbd3",
   "metadata": {},
   "outputs": [],
   "source": [
    "# Rellenar los valores ausentes en 'add_to_cart_order' con 999\n",
    "order_products_df['add_to_cart_order'].fillna(999, inplace=True)"
   ]
  },
  {
   "cell_type": "code",
   "execution_count": 27,
   "id": "f0b468aa",
   "metadata": {},
   "outputs": [],
   "source": [
    "# Asegurar que los valores de 'add_to_cart_order' sean numéricos\n",
    "order_products_df['add_to_cart_order'] = pd.to_numeric(order_products_df['add_to_cart_order'], errors='coerce').fillna(999).astype(int)"
   ]
  },
  {
   "cell_type": "markdown",
   "id": "c7f39fe7",
   "metadata": {},
   "source": [
    "#### **Hallazgos**\n",
    "\n",
    "1. **`products_df`**:\n",
    "   - **Hallazgos**: Se encontraron 1258 valores ausentes en la columna `product_name`. Estos valores ausentes estaban relacionados con el pasillo con ID 100 y el departamento con ID 21, ambos etiquetados como 'missing'.\n",
    "   - **Acciones**: Los valores ausentes en la columna `product_name` fueron completados con 'Unknown' para asegurar que todos los productos tengan un nombre asignado y evitar problemas en el análisis de los datos.\n",
    "\n",
    "\n",
    "2. **`instacart_orders_df`**:\n",
    "   - **Hallazgos**: La columna `days_since_prior_order` presentó 28,817 valores ausentes, lo que sugiere que estos pedidos podrían ser los primeros realizados por los clientes, ya que no había un pedido anterior del cual calcular los días transcurridos.\n",
    "   - **Acciones**: No se realizaron modificaciones en estos valores, ya que es un comportamiento esperado (primer pedido del cliente).\n",
    "\n",
    "\n",
    "3. **`order_products_df`**:\n",
    "   - **Hallazgos**: La columna `add_to_cart_order` presentó 836 valores ausentes. Estos no estaban necesariamente relacionados con pedidos grandes (más de 64 productos), ya que el número mínimo de productos en los pedidos afectados fue menor a ese valor.\n",
    "   - **Acciones**: Los valores ausentes en `add_to_cart_order` se rellenaron con 999 para asegurar la coherencia en el análisis. Se aseguró que la columna contuviera valores numéricos en todas las filas.\n",
    "\n",
    "#### **Conclusiones**\n",
    "- Se completaron los valores ausentes en `product_name` con 'Unknown' para evitar problemas en el análisis.\n",
    "- Los valores ausentes en `days_since_prior_order` fueron dejados sin modificar, ya que son comportamientos esperados para el primer pedido de los clientes.\n",
    "- En `order_products_df`, se rellenaron los valores ausentes en `add_to_cart_order` con 999, y se aseguró la consistencia de los datos al convertirlos en valores numéricos."
   ]
  },
  {
   "cell_type": "markdown",
   "id": "UjrOIwTcz3ri",
   "metadata": {
    "id": "UjrOIwTcz3ri"
   },
   "source": [
    "## **Análisis de los datos**"
   ]
  },
  {
   "cell_type": "markdown",
   "id": "15715718",
   "metadata": {},
   "source": [
    "### **Verificación de Valores en Horas y Días de la Semana**"
   ]
  },
  {
   "cell_type": "code",
   "execution_count": 28,
   "id": "800fa9aa",
   "metadata": {},
   "outputs": [
    {
     "name": "stdout",
     "output_type": "stream",
     "text": [
      "Valores en 'order_hour_of_day': Min = 0 , Max = 23\n",
      "Valores en 'order_dow': Min = 0 , Max = 6\n"
     ]
    }
   ],
   "source": [
    "# Verificar los valores mínimos y máximos en las columnas 'order_hour_of_day' y 'order_dow'del DataFrame 'instacart_orders_df'. \n",
    "min_hour = instacart_orders_df['order_hour_of_day'].min()\n",
    "max_hour = instacart_orders_df['order_hour_of_day'].max()\n",
    "min_dow = instacart_orders_df['order_dow'].min()\n",
    "max_dow = instacart_orders_df['order_dow'].max()\n",
    "\n",
    "print(\"Valores en 'order_hour_of_day': Min =\", min_hour, \", Max =\", max_hour)\n",
    "print(\"Valores en 'order_dow': Min =\", min_dow, \", Max =\", max_dow)"
   ]
  },
  {
   "cell_type": "markdown",
   "id": "ea7fa456",
   "metadata": {},
   "source": [
    "#### Hallazgos\n",
    "\n",
    "Se verificó que los valores en las columnas order_hour_of_day y order_dow son razonables.\n",
    "\n",
    "- `order_hour_of_day`: Valores entre 0 y 23.\n",
    "- `order_dow`: Valores entre 0 y 6.\n",
    "\n",
    "Los datos son consistentes y no presentan valores atípicos."
   ]
  },
  {
   "cell_type": "markdown",
   "id": "ac995b12",
   "metadata": {},
   "source": [
    "### **Distribución de Pedidos por Hora del Día**"
   ]
  },
  {
   "cell_type": "code",
   "execution_count": 29,
   "id": "d6413368",
   "metadata": {},
   "outputs": [
    {
     "data": {
      "image/png": "[encoded data removed]",
      "text/plain": [
       "<Figure size 1000x600 with 1 Axes>"
      ]
     },
     "metadata": {},
     "output_type": "display_data"
    }
   ],
   "source": [
    "# Distribución de Pedidos por Hora del Día\n",
    "plt.figure(figsize=(10, 6))\n",
    "bars = instacart_orders_df['order_hour_of_day'].value_counts().sort_index().plot(kind='bar', color='cornflowerblue', edgecolor='black')\n",
    "plt.title('Número de personas que hacen pedidos según la hora del día', fontsize=16)\n",
    "plt.xlabel('Hora del día', fontsize=14)\n",
    "plt.ylabel('Número de personas', fontsize=14)\n",
    "plt.xticks(rotation=0, fontsize=12)\n",
    "plt.grid(axis='y', linestyle='--', alpha=0.7)\n",
    "\n",
    "plt.show()"
   ]
  },
  {
   "cell_type": "markdown",
   "id": "34e37bd6",
   "metadata": {},
   "source": [
    "#### Hallazgos\n",
    "\n",
    "El gráfico muestra el número de personas que hacen pedidos según la hora del día. Se puede observar lo siguiente:\n",
    "\n",
    "- `Pico de actividad entre las 10 a.m. y las 3 p.m.`: La mayor parte de los pedidos se realizan en este rango horario, con un pico máximo alrededor de las 10 a.m. Esto sugiere que muchos usuarios prefieren hacer sus pedidos durante la mañana y al mediodía, posiblemente antes de comenzar otras actividades diarias o al inicio de su jornada laboral.\n",
    "\n",
    "\n",
    "- `Disminución progresiva a partir de las 4 p.m.`: Después de las 3 p.m., el número de pedidos disminuye gradualmente hasta la noche. Esto podría reflejar que las personas tienden a evitar hacer pedidos al final del día, posiblemente porque prefieren recibir los productos en horas más tempranas.\n",
    "\n",
    "\n",
    "- `Baja actividad en la madrugada`: Entre la medianoche y las 5 a.m., los pedidos son mucho menores, lo que es predecible ya que la mayoría de las personas no realiza compras en línea durante estas horas.\n",
    "\n",
    "\n",
    "En resumen, los datos sugieren que la actividad de pedidos sigue un patrón diurno, con un fuerte aumento en la mañana y una disminución constante hacia la tarde y noche. Este hallazgo puede ayudar a Instacart a optimizar la planificación de recursos y la disponibilidad de entregas durante las horas pico."
   ]
  },
  {
   "cell_type": "markdown",
   "id": "ec43ba89",
   "metadata": {},
   "source": [
    "### **Distribución de Pedidos por Día de la Semana**"
   ]
  },
  {
   "cell_type": "code",
   "execution_count": 30,
   "id": "3894d5d3",
   "metadata": {},
   "outputs": [
    {
     "data": {
      "image/png": "[encoded data removed]",
      "text/plain": [
       "<Figure size 1000x600 with 1 Axes>"
      ]
     },
     "metadata": {},
     "output_type": "display_data"
    }
   ],
   "source": [
    "# Crear el gráfico\n",
    "plt.figure(figsize=(10, 6))\n",
    "\n",
    "# Colores personalizados para destacar los días con más pedidos\n",
    "colors = ['cornflowerblue' if day not in [0, 1] else 'skyblue' for day in instacart_orders_df['order_dow'].value_counts().sort_index().index]\n",
    "\n",
    "# Graficar las barras con colores personalizados\n",
    "bars = instacart_orders_df['order_dow'].value_counts().sort_index().plot(kind='bar', color=colors)\n",
    "\n",
    "# Título y etiquetas\n",
    "plt.title('Día de la semana en que la gente hace sus compras')\n",
    "plt.xlabel('Día de la semana')\n",
    "plt.ylabel('Número de personas')\n",
    "plt.xticks(rotation=0)\n",
    "plt.xticks(range(7), ['Lunes', 'Martes', 'Miércoles', 'Jueves', 'Viernes', 'Sábado', 'Domingo'])\n",
    "\n",
    "# Agregar las etiquetas sobre las barras con los valores exactos\n",
    "for bar in bars.patches:\n",
    "    bars.annotate(format(bar.get_height(), '.0f'),\n",
    "                  (bar.get_x() + bar.get_width() / 2, bar.get_height()), \n",
    "                  ha='center', va='center', size=10, xytext=(0, 8),\n",
    "                  textcoords='offset points')\n",
    "\n",
    "# Cuadrícula\n",
    "plt.grid(axis='y', linestyle='--', alpha=0.7)\n",
    "\n",
    "# Mostrar el gráfico\n",
    "plt.show()"
   ]
  },
  {
   "cell_type": "markdown",
   "id": "7a3dd332",
   "metadata": {},
   "source": [
    "#### Hallazgos\n",
    "\n",
    "\n",
    "- `Lunes y Martes son los días más activos`: Los usuarios prefieren hacer sus compras al inicio de la semana, siendo el lunes el día con mayor cantidad de pedidos, seguido de cerca por el martes.\n",
    "  \n",
    "\n",
    "- `Fin de semana con alta actividad`: Aunque no tan altos como los días lunes y martes, los días sábado y domingo también muestran un volumen significativo de compras, lo que indica que las personas prefieren abastecerse para el fin de semana.\n",
    "\n",
    "\n",
    "- `Miércoles y viernes son los días menos activos`: Estos días reflejan un menor número de compras, lo que puede estar relacionado con la rutina de los consumidores a mitad y final de la semana.\n"
   ]
  },
  {
   "cell_type": "markdown",
   "id": "78794c35",
   "metadata": {},
   "source": [
    "### **Tiempo de Espera entre Pedidos**"
   ]
  },
  {
   "cell_type": "code",
   "execution_count": 31,
   "id": "cfa79f81",
   "metadata": {},
   "outputs": [
    {
     "data": {
      "image/png": "[encoded data removed]",
      "text/plain": [
       "<Figure size 1000x600 with 1 Axes>"
      ]
     },
     "metadata": {},
     "output_type": "display_data"
    }
   ],
   "source": [
    "# Crear el gráfico de histograma\n",
    "plt.figure(figsize=(10, 6))\n",
    "n, bins, patches = plt.hist(instacart_orders_df['days_since_prior_order'], bins=30, color='cornflowerblue', edgecolor='black')\n",
    "\n",
    "plt.title('Tiempo que las personas esperan hasta hacer su próximo pedido')\n",
    "plt.xlabel('Días desde el pedido anterior')\n",
    "plt.ylabel('Número de pedidos')\n",
    "plt.grid(axis='y', linestyle='--', alpha=0.7)\n",
    "\n",
    "plt.show()"
   ]
  },
  {
   "cell_type": "markdown",
   "id": "a717729f",
   "metadata": {},
   "source": [
    "#### Hallazgos \n",
    "\n",
    "- El gráfico muestra el tiempo que las personas esperan antes de hacer su próximo pedido. Se observan dos picos importantes:\n",
    "\n",
    "`El primer pico ocurre alrededor del día 7`: Esto sugiere que una gran parte de los usuarios tiende a hacer pedidos semanalmente, probablemente como parte de sus rutinas de compra.\n",
    "\n",
    "`El segundo pico importante es en el día 30`: Indica que muchos usuarios realizan pedidos de manera mensual, lo que podría estar relacionado con su ciclo de pagos o compras mayores para el mes.\n",
    "\n",
    "`Además, los usuarios que realizan pedidos con más frecuencia parecen hacerlo entre los días 1 y 15`. La disminución entre el día 16 y el día 29 indica que una menor cantidad de usuarios tiende a esperar más de dos semanas para hacer otro pedido."
   ]
  },
  {
   "cell_type": "markdown",
   "id": "f523cb52",
   "metadata": {},
   "source": [
    "### **Diferencia entre Miércoles y Sábado para 'order_hour_of_day'**"
   ]
  },
  {
   "cell_type": "code",
   "execution_count": 32,
   "id": "aea3dc60",
   "metadata": {},
   "outputs": [
    {
     "data": {
      "image/png": "[encoded data removed]",
      "text/plain": [
       "<Figure size 1200x700 with 1 Axes>"
      ]
     },
     "metadata": {},
     "output_type": "display_data"
    }
   ],
   "source": [
    "# Filtrar datos de miércoles y sábado\n",
    "wednesday_orders = instacart_orders_df[instacart_orders_df['order_dow'] == 3]\n",
    "saturday_orders = instacart_orders_df[instacart_orders_df['order_dow'] == 6]\n",
    "\n",
    "wednesday_hour_counts = wednesday_orders['order_hour_of_day'].value_counts().sort_index()\n",
    "saturday_hour_counts = saturday_orders['order_hour_of_day'].value_counts().sort_index()\n",
    "\n",
    "plt.figure(figsize=(12, 7))\n",
    "\n",
    "# Graficar barras apiladas\n",
    "bar_width = 0.4\n",
    "bars_wed = plt.bar(wednesday_hour_counts.index - bar_width/2, wednesday_hour_counts, \n",
    "                   width=bar_width, color='cornflowerblue', label='Miércoles')\n",
    "bars_sat = plt.bar(saturday_hour_counts.index + bar_width/2, saturday_hour_counts, \n",
    "                   width=bar_width, color='skyblue', label='Sábado')\n",
    "\n",
    "# Título y etiquetas\n",
    "plt.title('Distribución de horas del día para pedidos en Miércoles y Sábado')\n",
    "plt.xlabel('Hora del día')\n",
    "plt.ylabel('Número de pedidos')\n",
    "plt.legend()\n",
    "\n",
    "# Cuadrícula\n",
    "plt.grid(axis='y', linestyle='--', alpha=0.7)\n",
    "plt.show()"
   ]
  },
  {
   "cell_type": "markdown",
   "id": "ade54eb7",
   "metadata": {},
   "source": [
    "#### Hallazgos\n",
    "\n",
    "Diferencias en los Pedidos entre Miércoles y Sábado\n",
    "\n",
    "- `Mayor cantidad de pedidos en sábado`: Aunque ambos días tienen patrones similares, los sábados generalmente tienen un volumen mayor de pedidos en casi todas las horas del día en comparación con los miércoles.\n",
    "\n",
    "\n",
    "- `Picos de actividad`: Se observa un comportamiento similar en los picos de actividad, entre las 10:00 a.m. y las 14:00 p.m., lo que sugiere que estas horas son las preferidas por los clientes para realizar sus compras en ambos días.\n",
    "\n",
    "\n",
    "- `Distribución más uniforme en miércoles`: Mientras que los sábados tienen picos más concentrados a media mañana, los miércoles muestran una distribución de pedidos más uniforme a lo largo del día.\n"
   ]
  },
  {
   "cell_type": "markdown",
   "id": "20a91d83",
   "metadata": {},
   "source": [
    "### **Distribución del Número de Pedidos por Cliente**"
   ]
  },
  {
   "cell_type": "code",
   "execution_count": 33,
   "id": "456a7e4c",
   "metadata": {},
   "outputs": [
    {
     "data": {
      "image/png": "[encoded data removed]",
      "text/plain": [
       "<Figure size 1000x600 with 1 Axes>"
      ]
     },
     "metadata": {},
     "output_type": "display_data"
    }
   ],
   "source": [
    "# Distribución del Número de Pedidos por Cliente\n",
    "orders_per_user = instacart_orders_df.groupby('user_id')['order_id'].count()\n",
    "\n",
    "plt.figure(figsize=(10, 6))\n",
    "\n",
    "# Cambiar el número de bins para una visualización más clara\n",
    "orders_per_user.hist(bins=30, color='cornflowerblue', edgecolor='black')\n",
    "\n",
    "# Título y etiquetas\n",
    "plt.title('Distribución del número de pedidos por cliente')\n",
    "plt.xlabel('Número de pedidos')\n",
    "plt.ylabel('Número de clientes')\n",
    "\n",
    "# Línea de media\n",
    "mean_orders = orders_per_user.mean()\n",
    "plt.axvline(mean_orders, color='red', linestyle='dashed', linewidth=1, label=f'Media: {mean_orders:.2f}')\n",
    "\n",
    "# Cuadrícula\n",
    "plt.grid(axis='y', linestyle='--', alpha=0.7)\n",
    "\n",
    "# Leyenda\n",
    "plt.legend()\n",
    "\n",
    "plt.show()"
   ]
  },
  {
   "cell_type": "markdown",
   "id": "122e7c97",
   "metadata": {},
   "source": [
    "#### Hallazgos\n",
    "\n",
    "- `Distribución asimétrica`: La mayoría de los clientes realizan entre 1 y 5 pedidos. Hay una caída pronunciada a medida que aumenta el número de pedidos por cliente, lo que sugiere que solo una minoría realiza más de 10 pedidos.\n",
    "  \n",
    "\n",
    "- `Pocos usuarios con muchos pedidos`: Aunque la mayoría de los clientes tienen un número bajo de pedidos, existe una pequeña cantidad de usuarios que realizan un número significativamente mayor, llegando hasta 20-25 pedidos.\n",
    "\n",
    "\n",
    "- `Promedio de pedidos`: Se añadió una línea que indica el promedio de pedidos por cliente, lo que proporciona una referencia adicional para entender el comportamiento general de la base de usuarios.\n"
   ]
  },
  {
   "cell_type": "markdown",
   "id": "631b65b8",
   "metadata": {},
   "source": [
    "### **Productos Más Populares**"
   ]
  },
  {
   "cell_type": "code",
   "execution_count": 34,
   "id": "15688ec9",
   "metadata": {},
   "outputs": [
    {
     "name": "stdout",
     "output_type": "stream",
     "text": [
      "    product_id              product_name  frequency\n",
      "0        24852                    Banana      66050\n",
      "1        13176    Bag of Organic Bananas      53297\n",
      "2        21137      Organic Strawberries      37039\n",
      "3        21903      Organic Baby Spinach      33971\n",
      "4        47209      Organic Hass Avocado      29773\n",
      "5        47766           Organic Avocado      24689\n",
      "6        47626               Large Lemon      21495\n",
      "7        16797              Strawberries      20018\n",
      "8        26209                     Limes      19690\n",
      "9        27845        Organic Whole Milk      19600\n",
      "10       27966       Organic Raspberries      19197\n",
      "11       22935      Organic Yellow Onion      15898\n",
      "12       24964            Organic Garlic      15292\n",
      "13       45007          Organic Zucchini      14584\n",
      "14       39275       Organic Blueberries      13879\n",
      "15       49683            Cucumber Kirby      13675\n",
      "16       28204        Organic Fuji Apple      12544\n",
      "17        5876             Organic Lemon      12232\n",
      "18        8277  Apple Honeycrisp Organic      11993\n",
      "19       40706    Organic Grape Tomatoes      11781\n"
     ]
    }
   ],
   "source": [
    "# Contar los productos más vendidos y se seleccionan los 20 principales.\n",
    "top_products = order_products_df['product_id'].value_counts().head(20)\n",
    "\n",
    "# Iniciar una lista para almacenar los nombres de los productos.\n",
    "top_products_names = []\n",
    "\n",
    "# Iterar sobre los IDs de productos más vendidos para obtener sus nombres.\n",
    "for product_id in top_products.index:\n",
    "    # Buscamos el nombre del producto en el DataFrame de productos utilizando el product_id.\n",
    "    product_name = products_df[products_df['product_id'] == product_id]['product_name'].values[0]\n",
    "    top_products_names.append(product_name)\n",
    "\n",
    "# Crear un DataFrame con el ID del producto, el nombre del producto y su frecuencia de venta.\n",
    "top_products_df = pd.DataFrame({'product_id': top_products.index, 'product_name': top_products_names, 'frequency': top_products.values})\n",
    "\n",
    "# Imprimir el DataFrame resultante con los productos más populares.\n",
    "print(top_products_df)\n"
   ]
  },
  {
   "cell_type": "code",
   "execution_count": 35,
   "id": "6509b429",
   "metadata": {},
   "outputs": [
    {
     "data": {
      "image/png": "[encoded data removed]",
      "text/plain": [
       "<Figure size 1200x600 with 1 Axes>"
      ]
     },
     "metadata": {},
     "output_type": "display_data"
    }
   ],
   "source": [
    "# Crear un gráfico de barras para los productos más populares\n",
    "plt.figure(figsize=(12, 6))\n",
    "plt.barh(top_products_df['product_name'], top_products_df['frequency'], color='cornflowerblue', edgecolor='black')\n",
    "plt.title('Productos Más Populares', fontsize=16)\n",
    "plt.xlabel('Frecuencia de Ventas', fontsize=14)\n",
    "plt.ylabel('Nombre del Producto', fontsize=14)\n",
    "plt.grid(axis='x', linestyle='--', alpha=0.7)\n",
    "\n",
    "# Mostrar el gráfico\n",
    "plt.show()"
   ]
  },
  {
   "cell_type": "markdown",
   "id": "f53087a9",
   "metadata": {},
   "source": [
    "#### Hallazgos\n",
    "\n",
    "`Productos Más Populares`:\n",
    "\n",
    "- Los productos más solicitados son principalmente frutas y verduras frescas.\n",
    "\n",
    "- `Banana, Bag of Organic Bananas`, y `Organic Strawberries` son los más destacados.\n",
    "\n",
    "`Tendencia hacia Opciones Saludables`:\n",
    "\n",
    "- La lista incluye productos orgánicos como `Organic Baby Spinach` y` Organic Hass Avocado`, reflejando una preferencia por alimentos saludables.\n",
    "\n",
    "`Patrones de Consumo`:\n",
    "\n",
    "- La alta demanda de productos frescos indica un estilo de vida orientado hacia la salud entre los consumidores de Instacart.\n",
    "\n",
    "`Implicaciones para el Negocio`:\n",
    "\n",
    "- Esto permite una mejor planificación del inventario para productos de alta rotación.\n",
    "\n",
    "- Oportunidades para campañas de marketing centradas en productos frescos y orgánicos.\n",
    "\n",
    "#### Recomendaciones\n",
    "\n",
    "`Aumentar Stock`: Mantener suficiente inventario de productos frescos y orgánicos.\n",
    "\n",
    "`Campañas de Marketing`: Desarrollar promociones enfocadas en opciones saludables.\n",
    "\n",
    "`Encuestas de Satisfacción`: Recopilar retroalimentación de los clientes para ajustar la oferta.\n",
    "\n",
    "#### Conclusiones\n",
    "\n",
    "- Los hallazgos resaltan la importancia de las frutas y verduras frescas en el comportamiento de compra, sugiriendo que Instacart debería optimizar su oferta y marketing para alinearse con estas tendencias de salud."
   ]
  },
  {
   "cell_type": "markdown",
   "id": "6171db32",
   "metadata": {},
   "source": [
    "### **Proporción de Productos Reordenados**"
   ]
  },
  {
   "cell_type": "code",
   "execution_count": 51,
   "id": "a6deab0e",
   "metadata": {
    "scrolled": false
   },
   "outputs": [
    {
     "name": "stdout",
     "output_type": "stream",
     "text": [
      "       product_id  proportion\n",
      "0               1    0.564286\n",
      "2               3    0.738095\n",
      "3               4    0.510204\n",
      "4               7    0.500000\n",
      "5               8    0.315789\n",
      "...           ...         ...\n",
      "45568       49690    0.800000\n",
      "45569       49691    0.430556\n",
      "45570       49692    0.416667\n",
      "45571       49693    0.440000\n",
      "45572       49694    0.333333\n",
      "\n",
      "[28849 rows x 2 columns]\n"
     ]
    },
    {
     "data": {
      "image/png": "[encoded data removed]",
      "text/plain": [
       "<Figure size 1000x600 with 1 Axes>"
      ]
     },
     "metadata": {},
     "output_type": "display_data"
    }
   ],
   "source": [
    "# Filtrar para productos significativos (por ejemplo, con proporciones > 0.3)\n",
    "significant_products = proportion_reordered_per_product_df[proportion_reordered_per_product_df['proportion'] > 0.3]\n",
    "\n",
    "# Verificar los datos filtrados\n",
    "print(significant_products)\n",
    "\n",
    "# Filtrar para mostrar solo los productos con mayor proporción (Top 15).\n",
    "top_significant_products = significant_products.nlargest(15, 'proportion')\n",
    "\n",
    "# Unir con los nombres de productos\n",
    "top_significant_products = top_significant_products.merge(products_df[['product_id', 'product_name']], on='product_id')\n",
    "\n",
    "# Graficar con Seaborn.\n",
    "plt.figure(figsize=(10, 6))\n",
    "sns.barplot(x='proportion', y='product_name', data=top_significant_products, palette='Blues')\n",
    "plt.title('Proporción de Productos Reordenados (Top 15 Productos Significativos)', fontsize=16)\n",
    "plt.xlabel('Proporción de Reordenamientos', fontsize=14)\n",
    "plt.ylabel('Nombre del Producto', fontsize=14)\n",
    "plt.xlim(0, 1)  # Asegurarse de que el eje x vaya de 0 a 1\n",
    "plt.grid(axis='x', linestyle='--', alpha=0.7)\n",
    "plt.show()\n",
    "\n"
   ]
  },
  {
   "cell_type": "markdown",
   "id": "540f530a",
   "metadata": {},
   "source": [
    "#### Hallazgos\n",
    "\n",
    "`Proporciones de Reordenamiento`:\n",
    "\n",
    "- Muchos productos tienen proporciones de reordenamiento inferiores a 0.5, lo que sugiere que no son considerados esenciales por los consumidores.\n",
    "\n",
    "- Productos con proporción de reordenamiento de 1.0 indican alta lealtad y compra repetida.\n",
    "\n",
    "`Identificación de Productos Clave`:\n",
    "\n",
    "- Productos como `\"Clarified Lime Juice\"` y `\"Dailyfoods Vitamin D-3 2000 IU\"` son frecuentemente reordenados, lo que sugiere que son esenciales para los consumidores.\n",
    "\n",
    "`Tendencias de Consumo`:\n",
    "\n",
    "- Los consumidores tienden a reordenar productos específicos, lo que puede indicar preferencias claras en sus decisiones de compra.\n",
    "\n",
    "#### Recomendaciones\n",
    "\n",
    "`Estrategia de Marketing`:\n",
    "\n",
    "- Desarrollar campañas promocionales centradas en productos con alta tasa de reordenamiento para incentivar las compras.\n",
    "\n",
    "`Análisis Continuo`:\n",
    "\n",
    "- Realizar un seguimiento regular de la proporción de reordenamiento para identificar tendencias y ajustar estrategias de inventario.\n",
    "\n",
    "`Optimización del Inventario`:\n",
    "\n",
    "- Asegurar la disponibilidad constante de productos con alta tasa de reordenamiento para satisfacer la demanda de los clientes.\n",
    "\n",
    "#### Conclusiones\n",
    "\n",
    "- La visualización y el análisis de la proporción de productos reordenados revelan patrones claros en el comportamiento del consumidor.\n",
    "\n",
    "- Utilizar esta información estratégicamente puede mejorar la satisfacción del cliente y fomentar la lealtad hacia los productos.\n",
    "\n",
    "- Adoptar las recomendaciones propuestas permitirá a la empresa optimizar sus recursos y maximizar las oportunidades de ventas."
   ]
  },
  {
   "cell_type": "markdown",
   "id": "20e9779f",
   "metadata": {},
   "source": [
    "### **Productos que se Agregan Primero al Carrito**"
   ]
  },
  {
   "cell_type": "code",
   "execution_count": 55,
   "id": "fe1f4046",
   "metadata": {},
   "outputs": [
    {
     "name": "stdout",
     "output_type": "stream",
     "text": [
      "    product_id  frequency                 product_name\n",
      "0        24852      15562                       Banana\n",
      "1        13176      11026       Bag of Organic Bananas\n",
      "2        27845       4363           Organic Whole Milk\n",
      "3        21137       3946         Organic Strawberries\n",
      "4        47209       3390         Organic Hass Avocado\n",
      "5        21903       3336         Organic Baby Spinach\n",
      "6        47766       3044              Organic Avocado\n",
      "7        19660       2336                 Spring Water\n",
      "8        16797       2308                 Strawberries\n",
      "9        27966       2024          Organic Raspberries\n",
      "10       44632       1914   Sparkling Water Grapefruit\n",
      "11       49235       1797          Organic Half & Half\n",
      "12       47626       1737                  Large Lemon\n",
      "13         196       1733                         Soda\n",
      "14       38689       1397     Organic Reduced Fat Milk\n",
      "15       26209       1370                        Limes\n",
      "16       12341       1340                Hass Avocados\n",
      "17        5785       1310  Organic Reduced Fat 2% Milk\n",
      "18       27086       1309                  Half & Half\n",
      "19       22935       1246         Organic Yellow Onion\n"
     ]
    },
    {
     "data": {
      "image/png": "[encoded data removed]",
      "text/plain": [
       "<Figure size 1200x800 with 1 Axes>"
      ]
     },
     "metadata": {},
     "output_type": "display_data"
    }
   ],
   "source": [
    "# Filtrar los productos que se agregan primero al carrito (add_to_cart_order == 1)\n",
    "top_first_cart_items = order_products_df[order_products_df['add_to_cart_order'] == 1]['product_id'].value_counts().head(20)\n",
    "\n",
    "# Crear un DataFrame para almacenar la información de los productos\n",
    "top_first_cart_items_info = pd.DataFrame({\n",
    "    'product_id': top_first_cart_items.index,\n",
    "    'frequency': top_first_cart_items.values\n",
    "})\n",
    "\n",
    "# Unir el DataFrame con los nombres de los productos\n",
    "top_first_cart_items_info = pd.merge(top_first_cart_items_info, products_df[['product_id', 'product_name']], on='product_id', how='left')\n",
    "\n",
    "# Imprimir el DataFrame resultante que muestra los productos más frecuentemente agregados al carrito\n",
    "print(top_first_cart_items_info)\n",
    "\n",
    "# Graficar los productos que se agregan primero al carrito\n",
    "plt.figure(figsize=(12, 8))\n",
    "sns.barplot(x='frequency', y='product_name', data=top_first_cart_items_info, palette='Blues')\n",
    "plt.title('Productos que se Agregan Primero al Carrito', fontsize=16)\n",
    "plt.xlabel('Frecuencia de Agregados', fontsize=14)\n",
    "plt.ylabel('Nombre del Producto', fontsize=14)\n",
    "plt.grid(axis='x', linestyle='--', alpha=0.7)\n",
    "plt.show()\n"
   ]
  },
  {
   "cell_type": "markdown",
   "id": "9f086a82",
   "metadata": {},
   "source": [
    "#### Hallazgos\n",
    "\n",
    "`Productos Más Agregados`:\n",
    "\n",
    "- Los productos que se agregan primero al carrito son principalmente frutas y productos lácteos.\n",
    "`Banana`, `Bag of Organic Bananas`, y `Organic Whole Milk` se encuentran entre los más agregados.\n",
    "\n",
    "`Tendencias en Comportamiento de Compra`:\n",
    "\n",
    "- La predominancia de productos frescos y orgánicos sugiere que los consumidores tienden a priorizar estos artículos al hacer sus compras.\n",
    "\n",
    "`Diversidad de Productos`:\n",
    "\n",
    "- El listado incluye una variedad de productos, desde frutas hasta bebidas, reflejando diferentes categorías que atraen a los consumidores.\n",
    "\n",
    "`Oportunidades de Ventas`:\n",
    "\n",
    "- Los productos como Organic Baby Spinach y Organic Hass Avocado indican un interés creciente por opciones saludables entre los consumidores.\n",
    "\n",
    "#### Recomendaciones\n",
    "\n",
    "`Optimización del Inventario`:\n",
    "\n",
    "- Asegurarse de mantener suficiente stock de los productos que se agregan primero al carrito para satisfacer la demanda.\n",
    "\n",
    "`Marketing Dirigido`:\n",
    "\n",
    "- Implementar campañas de marketing que resalten estos productos para captar la atención de los consumidores desde el inicio de su experiencia de compra.\n",
    "\n",
    "`Promociones de Productos Frescos`:\n",
    "\n",
    "- Ofrecer descuentos o promociones para productos que se agregan primero al carrito podría incentivar más compras.\n",
    "\n",
    "#### Conclusiones\n",
    "\n",
    "- Los hallazgos indican que los consumidores de Instacart tienen una fuerte preferencia por productos frescos y orgánicos al realizar sus compras. Esto presenta una oportunidad para que Instacart optimice su inventario y desarrolle estrategias de marketing enfocadas en estos productos, mejorando así la experiencia del cliente y potencialmente aumentando las ventas."
   ]
  },
  {
   "cell_type": "markdown",
   "id": "8954737b",
   "metadata": {},
   "source": [
    "## **Conclusión Final**\n",
    "\n",
    "Este análisis de datos de Instacart ofrece una comprensión detallada de los hábitos de compra de los clientes y los patrones de consumo en línea, destacando varias tendencias clave:\n",
    "\n",
    "`Preferencias Horarias y Diarias`: La mayoría de los pedidos se concentran entre las 10 a.m. y las 3 p.m., con mayor actividad en los días lunes y martes. Esto indica que los consumidores tienden a realizar sus compras al inicio de la semana y durante las horas matutinas.\n",
    "\n",
    "`Tiempo entre Pedidos`: Muchos clientes realizan compras semanalmente, con picos de actividad en pedidos mensuales. Esto sugiere la necesidad de estrategias de marketing que consideren la frecuencia de compra de los usuarios.\n",
    "\n",
    "`Productos Populares y Reordenados`: Los productos más solicitados son principalmente frutas y verduras frescas, reflejando una preferencia por opciones saludables. La alta tasa de reordenamiento de ciertos artículos sugiere lealtad del cliente, lo que brinda oportunidades para personalizar ofertas.\n",
    "\n",
    "`Comportamiento de Agregación al Carrito`: Los productos que se agregan primero al carrito son mayoritariamente frescos y orgánicos, indicando que estos artículos son esenciales en la planificación de compras.\n",
    "\n",
    "`Recomendaciones Estratégicas`: Se sugiere que Instacart implemente estrategias de marketing enfocadas en productos populares y de alta rotación. Mejorar la experiencia del cliente durante las horas pico y los días más activos puede aumentar la satisfacción y fomentar la lealtad a largo plazo.\n",
    "\n",
    "En conclusión, este proyecto no solo resalta los comportamientos actuales de los consumidores de Instacart, sino que también proporciona un marco para decisiones estratégicas que optimizarán la operación de la plataforma y mejorarán la experiencia del cliente."
   ]
  }
 ],
 "metadata": {
  "ExecuteTimeLog": [
   {
    "duration": 469,
    "start_time": "2024-10-08T12:32:27.289Z"
   },
   {
    "duration": 228,
    "start_time": "2024-10-08T12:33:19.783Z"
   },
   {
    "duration": 3,
    "start_time": "2024-10-08T12:33:26.950Z"
   },
   {
    "duration": 1114,
    "start_time": "2024-10-08T12:33:27.231Z"
   },
   {
    "duration": 91,
    "start_time": "2024-10-08T12:33:28.348Z"
   },
   {
    "duration": 16,
    "start_time": "2024-10-08T12:33:49.243Z"
   },
   {
    "duration": 13,
    "start_time": "2024-10-08T12:34:26.838Z"
   },
   {
    "duration": 6,
    "start_time": "2024-10-08T12:34:36.687Z"
   },
   {
    "duration": 74,
    "start_time": "2024-10-08T12:34:58.268Z"
   },
   {
    "duration": 14,
    "start_time": "2024-10-08T12:35:21.273Z"
   },
   {
    "duration": 4,
    "start_time": "2024-10-08T12:35:35.585Z"
   },
   {
    "duration": 12,
    "start_time": "2024-10-08T12:35:39.303Z"
   },
   {
    "duration": 12,
    "start_time": "2024-10-08T12:35:52.369Z"
   },
   {
    "duration": 26,
    "start_time": "2024-10-08T12:37:34.535Z"
   },
   {
    "duration": 517,
    "start_time": "2024-10-08T12:37:43.393Z"
   },
   {
    "duration": 1455,
    "start_time": "2024-10-08T12:45:28.909Z"
   },
   {
    "duration": 1438,
    "start_time": "2024-10-08T12:45:53.589Z"
   },
   {
    "duration": 861,
    "start_time": "2024-10-08T12:49:39.033Z"
   },
   {
    "duration": 881,
    "start_time": "2024-10-08T12:50:03.780Z"
   },
   {
    "duration": 568,
    "start_time": "2024-10-08T12:50:16.775Z"
   },
   {
    "duration": 750,
    "start_time": "2024-10-08T12:59:42.411Z"
   },
   {
    "duration": 17,
    "start_time": "2024-10-08T12:59:57.106Z"
   },
   {
    "duration": 28,
    "start_time": "2024-10-08T13:00:07.676Z"
   },
   {
    "duration": 1384,
    "start_time": "2024-10-08T13:02:42.042Z"
   },
   {
    "duration": 564,
    "start_time": "2024-10-08T13:02:43.428Z"
   },
   {
    "duration": 815,
    "start_time": "2024-10-08T13:02:43.994Z"
   },
   {
    "duration": 12,
    "start_time": "2024-10-08T13:02:44.812Z"
   },
   {
    "duration": 28,
    "start_time": "2024-10-08T13:02:44.826Z"
   },
   {
    "duration": 3,
    "start_time": "2024-10-08T13:02:44.855Z"
   },
   {
    "duration": 6,
    "start_time": "2024-10-08T13:02:44.860Z"
   },
   {
    "duration": 247,
    "start_time": "2024-10-08T13:02:44.867Z"
   },
   {
    "duration": 145,
    "start_time": "2024-10-08T13:02:45.116Z"
   },
   {
    "duration": 167,
    "start_time": "2024-10-08T13:02:45.265Z"
   },
   {
    "duration": 11,
    "start_time": "2024-10-08T13:02:45.433Z"
   },
   {
    "duration": 5,
    "start_time": "2024-10-08T13:02:45.446Z"
   },
   {
    "duration": 257,
    "start_time": "2024-10-08T13:02:45.453Z"
   },
   {
    "duration": 34,
    "start_time": "2024-10-08T13:02:45.712Z"
   },
   {
    "duration": 169,
    "start_time": "2024-10-08T13:02:45.748Z"
   },
   {
    "duration": 95,
    "start_time": "2024-10-08T13:02:45.919Z"
   },
   {
    "duration": 11,
    "start_time": "2024-10-08T13:02:46.016Z"
   },
   {
    "duration": 5,
    "start_time": "2024-10-08T13:02:46.030Z"
   },
   {
    "duration": 305,
    "start_time": "2024-10-08T13:02:46.037Z"
   },
   {
    "duration": 3,
    "start_time": "2024-10-08T13:02:46.344Z"
   },
   {
    "duration": 200,
    "start_time": "2024-10-08T13:02:46.349Z"
   },
   {
    "duration": 153,
    "start_time": "2024-10-08T13:02:46.550Z"
   },
   {
    "duration": 4,
    "start_time": "2024-10-08T13:02:46.705Z"
   },
   {
    "duration": 10,
    "start_time": "2024-10-08T13:02:46.711Z"
   },
   {
    "duration": 4,
    "start_time": "2024-10-08T13:02:46.723Z"
   },
   {
    "duration": 175,
    "start_time": "2024-10-08T13:02:46.729Z"
   },
   {
    "duration": 59,
    "start_time": "2024-10-08T13:02:46.906Z"
   },
   {
    "duration": 3,
    "start_time": "2024-10-08T13:02:46.970Z"
   },
   {
    "duration": 1634,
    "start_time": "2024-10-08T13:02:46.975Z"
   },
   {
    "duration": 823,
    "start_time": "2024-10-08T13:02:48.611Z"
   },
   {
    "duration": 29,
    "start_time": "2024-10-08T13:02:49.436Z"
   },
   {
    "duration": 10,
    "start_time": "2024-10-08T13:02:49.467Z"
   },
   {
    "duration": 5,
    "start_time": "2024-10-08T13:02:49.478Z"
   },
   {
    "duration": 636,
    "start_time": "2024-10-08T13:06:20.145Z"
   },
   {
    "duration": 37,
    "start_time": "2024-10-08T13:13:47.993Z"
   },
   {
    "duration": 867,
    "start_time": "2024-10-08T13:14:05.293Z"
   },
   {
    "duration": 557,
    "start_time": "2024-10-08T13:14:06.387Z"
   },
   {
    "duration": 37,
    "start_time": "2024-10-08T13:14:08.440Z"
   },
   {
    "duration": 8,
    "start_time": "2024-10-08T13:15:08.205Z"
   },
   {
    "duration": 42,
    "start_time": "2024-10-08T13:15:38.520Z"
   },
   {
    "duration": 70,
    "start_time": "2024-10-08T13:15:52.802Z"
   },
   {
    "duration": 40,
    "start_time": "2024-10-08T13:16:14.793Z"
   },
   {
    "duration": 107,
    "start_time": "2024-10-08T13:18:03.842Z"
   },
   {
    "duration": 40,
    "start_time": "2024-10-08T13:18:15.030Z"
   },
   {
    "duration": 41,
    "start_time": "2024-10-08T13:30:03.430Z"
   },
   {
    "duration": 15,
    "start_time": "2024-10-08T13:31:37.544Z"
   },
   {
    "duration": 4,
    "start_time": "2024-10-08T13:31:46.708Z"
   },
   {
    "duration": 34,
    "start_time": "2024-10-08T13:32:08.753Z"
   },
   {
    "duration": 11,
    "start_time": "2024-10-08T13:32:26.723Z"
   },
   {
    "duration": 4,
    "start_time": "2024-10-08T13:33:18.844Z"
   },
   {
    "duration": 4,
    "start_time": "2024-10-08T13:33:28.538Z"
   },
   {
    "duration": 4,
    "start_time": "2024-10-08T13:34:03.271Z"
   },
   {
    "duration": 4,
    "start_time": "2024-10-08T13:34:12.503Z"
   },
   {
    "duration": 722,
    "start_time": "2024-10-08T13:34:48.652Z"
   },
   {
    "duration": 681,
    "start_time": "2024-10-08T13:34:58.570Z"
   },
   {
    "duration": 23,
    "start_time": "2024-10-08T13:45:37.576Z"
   },
   {
    "duration": 11,
    "start_time": "2024-10-08T13:46:04.439Z"
   },
   {
    "duration": 10,
    "start_time": "2024-10-08T13:46:15.121Z"
   },
   {
    "duration": 6,
    "start_time": "2024-10-08T13:46:25.288Z"
   },
   {
    "duration": 6,
    "start_time": "2024-10-08T13:46:38.848Z"
   },
   {
    "duration": 6,
    "start_time": "2024-10-08T13:47:25.068Z"
   },
   {
    "duration": 3,
    "start_time": "2024-10-08T13:47:34.856Z"
   },
   {
    "duration": 15,
    "start_time": "2024-10-08T13:48:15.927Z"
   },
   {
    "duration": 16,
    "start_time": "2024-10-08T13:48:17.730Z"
   },
   {
    "duration": 33,
    "start_time": "2024-10-08T13:48:28.384Z"
   },
   {
    "duration": 7,
    "start_time": "2024-10-08T13:48:40.591Z"
   },
   {
    "duration": 27,
    "start_time": "2024-10-08T13:48:51.245Z"
   },
   {
    "duration": 6,
    "start_time": "2024-10-08T14:05:20.319Z"
   },
   {
    "duration": 202,
    "start_time": "2024-10-08T14:07:44.850Z"
   },
   {
    "duration": 143,
    "start_time": "2024-10-08T14:09:55.667Z"
   },
   {
    "duration": 165,
    "start_time": "2024-10-08T14:10:44.116Z"
   },
   {
    "duration": 5,
    "start_time": "2024-10-08T14:11:06.800Z"
   },
   {
    "duration": 285,
    "start_time": "2024-10-08T14:12:18.534Z"
   },
   {
    "duration": 193,
    "start_time": "2024-10-08T14:13:18.273Z"
   },
   {
    "duration": 99,
    "start_time": "2024-10-08T14:13:58.625Z"
   },
   {
    "duration": 209,
    "start_time": "2024-10-08T14:14:35.263Z"
   },
   {
    "duration": 2210,
    "start_time": "2024-10-08T14:15:49.741Z"
   },
   {
    "duration": 35,
    "start_time": "2024-10-08T14:16:35.297Z"
   },
   {
    "duration": 4,
    "start_time": "2024-10-08T14:16:49.648Z"
   },
   {
    "duration": 159,
    "start_time": "2024-10-08T14:23:39.263Z"
   },
   {
    "duration": 855,
    "start_time": "2024-10-08T14:26:29.136Z"
   },
   {
    "duration": 225,
    "start_time": "2024-10-08T14:26:49.424Z"
   },
   {
    "duration": 206,
    "start_time": "2024-10-08T14:27:35.461Z"
   },
   {
    "duration": 210,
    "start_time": "2024-10-08T14:28:17.130Z"
   },
   {
    "duration": 367,
    "start_time": "2024-10-08T14:36:09.727Z"
   },
   {
    "duration": 281,
    "start_time": "2024-10-08T14:37:14.224Z"
   },
   {
    "duration": 200,
    "start_time": "2024-10-08T14:38:24.712Z"
   },
   {
    "duration": 305,
    "start_time": "2024-10-08T14:39:20.104Z"
   },
   {
    "duration": 859,
    "start_time": "2024-10-08T14:47:44.150Z"
   },
   {
    "duration": 1362,
    "start_time": "2024-10-08T14:47:52.696Z"
   },
   {
    "duration": 571,
    "start_time": "2024-10-08T14:47:54.060Z"
   },
   {
    "duration": 42,
    "start_time": "2024-10-08T14:47:54.633Z"
   },
   {
    "duration": 8,
    "start_time": "2024-10-08T14:47:54.678Z"
   },
   {
    "duration": 157,
    "start_time": "2024-10-08T14:47:54.688Z"
   },
   {
    "duration": 43,
    "start_time": "2024-10-08T14:47:54.847Z"
   },
   {
    "duration": 22,
    "start_time": "2024-10-08T14:47:54.892Z"
   },
   {
    "duration": 4,
    "start_time": "2024-10-08T14:47:54.915Z"
   },
   {
    "duration": 31,
    "start_time": "2024-10-08T14:47:54.922Z"
   },
   {
    "duration": 7,
    "start_time": "2024-10-08T14:47:54.957Z"
   },
   {
    "duration": 4,
    "start_time": "2024-10-08T14:47:54.966Z"
   },
   {
    "duration": 5,
    "start_time": "2024-10-08T14:47:55.008Z"
   },
   {
    "duration": 5,
    "start_time": "2024-10-08T14:47:55.015Z"
   },
   {
    "duration": 4,
    "start_time": "2024-10-08T14:47:55.022Z"
   },
   {
    "duration": 809,
    "start_time": "2024-10-08T14:47:55.028Z"
   },
   {
    "duration": 786,
    "start_time": "2024-10-08T14:47:55.839Z"
   },
   {
    "duration": 19,
    "start_time": "2024-10-08T14:47:56.627Z"
   },
   {
    "duration": 9,
    "start_time": "2024-10-08T14:47:56.647Z"
   },
   {
    "duration": 9,
    "start_time": "2024-10-08T14:47:56.658Z"
   },
   {
    "duration": 6,
    "start_time": "2024-10-08T14:47:56.668Z"
   },
   {
    "duration": 35,
    "start_time": "2024-10-08T14:47:56.675Z"
   },
   {
    "duration": 7,
    "start_time": "2024-10-08T14:47:56.712Z"
   },
   {
    "duration": 3,
    "start_time": "2024-10-08T14:47:56.721Z"
   },
   {
    "duration": 15,
    "start_time": "2024-10-08T14:47:56.726Z"
   },
   {
    "duration": 32,
    "start_time": "2024-10-08T14:47:56.742Z"
   },
   {
    "duration": 37,
    "start_time": "2024-10-08T14:47:56.776Z"
   },
   {
    "duration": 27,
    "start_time": "2024-10-08T14:47:56.814Z"
   },
   {
    "duration": 6,
    "start_time": "2024-10-08T14:47:56.844Z"
   },
   {
    "duration": 234,
    "start_time": "2024-10-08T14:47:56.851Z"
   },
   {
    "duration": 182,
    "start_time": "2024-10-08T14:47:57.087Z"
   },
   {
    "duration": 212,
    "start_time": "2024-10-08T14:47:57.271Z"
   },
   {
    "duration": 215,
    "start_time": "2024-10-08T14:47:57.485Z"
   },
   {
    "duration": 315,
    "start_time": "2024-10-08T14:47:57.702Z"
   },
   {
    "duration": 107,
    "start_time": "2024-10-08T14:47:58.018Z"
   },
   {
    "duration": 272,
    "start_time": "2024-10-08T14:47:58.128Z"
   },
   {
    "duration": 2416,
    "start_time": "2024-10-08T14:47:58.408Z"
   },
   {
    "duration": 34,
    "start_time": "2024-10-08T14:48:00.826Z"
   },
   {
    "duration": 254,
    "start_time": "2024-10-09T09:36:27.066Z"
   },
   {
    "duration": 14,
    "start_time": "2024-10-09T09:36:31.134Z"
   },
   {
    "duration": 11,
    "start_time": "2024-10-09T09:36:35.263Z"
   },
   {
    "duration": 14,
    "start_time": "2024-10-09T09:40:14.026Z"
   },
   {
    "duration": 3210,
    "start_time": "2024-10-09T09:43:12.708Z"
   },
   {
    "duration": 843,
    "start_time": "2024-10-09T09:43:15.972Z"
   },
   {
    "duration": 53,
    "start_time": "2024-10-09T09:43:16.817Z"
   },
   {
    "duration": 10,
    "start_time": "2024-10-09T09:43:16.872Z"
   },
   {
    "duration": 139,
    "start_time": "2024-10-09T09:43:16.883Z"
   },
   {
    "duration": 52,
    "start_time": "2024-10-09T09:43:17.024Z"
   },
   {
    "duration": 13,
    "start_time": "2024-10-09T09:43:17.078Z"
   },
   {
    "duration": 4,
    "start_time": "2024-10-09T09:43:17.092Z"
   },
   {
    "duration": 30,
    "start_time": "2024-10-09T09:43:17.098Z"
   },
   {
    "duration": 7,
    "start_time": "2024-10-09T09:43:17.131Z"
   },
   {
    "duration": 36,
    "start_time": "2024-10-09T09:43:17.140Z"
   },
   {
    "duration": 8,
    "start_time": "2024-10-09T09:43:17.177Z"
   },
   {
    "duration": 5,
    "start_time": "2024-10-09T09:43:17.188Z"
   },
   {
    "duration": 5,
    "start_time": "2024-10-09T09:43:17.195Z"
   },
   {
    "duration": 780,
    "start_time": "2024-10-09T09:43:17.201Z"
   },
   {
    "duration": 763,
    "start_time": "2024-10-09T09:43:17.983Z"
   },
   {
    "duration": 22,
    "start_time": "2024-10-09T09:43:18.748Z"
   },
   {
    "duration": 8,
    "start_time": "2024-10-09T09:43:18.772Z"
   },
   {
    "duration": 8,
    "start_time": "2024-10-09T09:43:18.782Z"
   },
   {
    "duration": 6,
    "start_time": "2024-10-09T09:43:18.791Z"
   },
   {
    "duration": 4,
    "start_time": "2024-10-09T09:43:18.799Z"
   },
   {
    "duration": 5,
    "start_time": "2024-10-09T09:43:18.805Z"
   },
   {
    "duration": 2,
    "start_time": "2024-10-09T09:43:18.812Z"
   },
   {
    "duration": 55,
    "start_time": "2024-10-09T09:43:18.816Z"
   },
   {
    "duration": 30,
    "start_time": "2024-10-09T09:43:18.873Z"
   },
   {
    "duration": 7,
    "start_time": "2024-10-09T09:43:18.905Z"
   },
   {
    "duration": 27,
    "start_time": "2024-10-09T09:43:18.913Z"
   },
   {
    "duration": 26,
    "start_time": "2024-10-09T09:43:18.945Z"
   },
   {
    "duration": 386,
    "start_time": "2024-10-09T09:43:18.972Z"
   },
   {
    "duration": 167,
    "start_time": "2024-10-09T09:43:19.360Z"
   },
   {
    "duration": 185,
    "start_time": "2024-10-09T09:43:19.528Z"
   },
   {
    "duration": 204,
    "start_time": "2024-10-09T09:43:19.715Z"
   },
   {
    "duration": 335,
    "start_time": "2024-10-09T09:43:19.921Z"
   },
   {
    "duration": 96,
    "start_time": "2024-10-09T09:43:20.258Z"
   },
   {
    "duration": 267,
    "start_time": "2024-10-09T09:43:20.356Z"
   },
   {
    "duration": 2318,
    "start_time": "2024-10-09T09:43:20.625Z"
   },
   {
    "duration": 43,
    "start_time": "2024-10-09T09:43:22.945Z"
   },
   {
    "duration": 206,
    "start_time": "2024-10-09T09:44:07.010Z"
   },
   {
    "duration": 201,
    "start_time": "2024-10-09T09:44:37.361Z"
   },
   {
    "duration": 262,
    "start_time": "2024-10-09T09:47:36.442Z"
   },
   {
    "duration": 161,
    "start_time": "2024-10-09T09:47:44.713Z"
   },
   {
    "duration": 6,
    "start_time": "2024-10-09T09:48:07.832Z"
   },
   {
    "duration": 170,
    "start_time": "2024-10-09T09:48:18.699Z"
   },
   {
    "duration": 193,
    "start_time": "2024-10-09T09:48:44.740Z"
   },
   {
    "duration": 192,
    "start_time": "2024-10-09T09:48:54.891Z"
   },
   {
    "duration": 285,
    "start_time": "2024-10-09T09:49:04.615Z"
   },
   {
    "duration": 164,
    "start_time": "2024-10-09T09:49:16.685Z"
   },
   {
    "duration": 341,
    "start_time": "2024-10-09T09:49:29.039Z"
   },
   {
    "duration": 158,
    "start_time": "2024-10-09T09:52:20.870Z"
   },
   {
    "duration": 159,
    "start_time": "2024-10-09T09:52:57.999Z"
   },
   {
    "duration": 159,
    "start_time": "2024-10-09T09:53:13.213Z"
   },
   {
    "duration": 159,
    "start_time": "2024-10-09T09:53:23.347Z"
   },
   {
    "duration": 158,
    "start_time": "2024-10-09T09:53:39.789Z"
   },
   {
    "duration": 160,
    "start_time": "2024-10-09T09:53:44.651Z"
   },
   {
    "duration": 171,
    "start_time": "2024-10-09T09:56:53.947Z"
   },
   {
    "duration": 162,
    "start_time": "2024-10-09T09:56:59.794Z"
   },
   {
    "duration": 170,
    "start_time": "2024-10-09T09:57:05.866Z"
   },
   {
    "duration": 181,
    "start_time": "2024-10-09T09:57:13.381Z"
   },
   {
    "duration": 290,
    "start_time": "2024-10-09T09:57:19.382Z"
   },
   {
    "duration": 161,
    "start_time": "2024-10-09T09:57:27.882Z"
   },
   {
    "duration": 150,
    "start_time": "2024-10-09T09:57:43.513Z"
   },
   {
    "duration": 151,
    "start_time": "2024-10-09T09:59:24.542Z"
   },
   {
    "duration": 154,
    "start_time": "2024-10-09T09:59:32.829Z"
   },
   {
    "duration": 151,
    "start_time": "2024-10-09T09:59:43.682Z"
   },
   {
    "duration": 152,
    "start_time": "2024-10-09T10:00:39.787Z"
   },
   {
    "duration": 156,
    "start_time": "2024-10-09T10:00:56.194Z"
   },
   {
    "duration": 151,
    "start_time": "2024-10-09T10:01:37.733Z"
   },
   {
    "duration": 152,
    "start_time": "2024-10-09T10:02:09.212Z"
   },
   {
    "duration": 158,
    "start_time": "2024-10-09T10:02:19.759Z"
   },
   {
    "duration": 302,
    "start_time": "2024-10-09T10:02:31.891Z"
   },
   {
    "duration": 154,
    "start_time": "2024-10-09T10:03:42.119Z"
   },
   {
    "duration": 164,
    "start_time": "2024-10-09T10:03:51.532Z"
   },
   {
    "duration": 100,
    "start_time": "2024-10-09T10:07:44.423Z"
   },
   {
    "duration": 212,
    "start_time": "2024-10-09T10:08:04.727Z"
   },
   {
    "duration": 220,
    "start_time": "2024-10-09T10:12:25.836Z"
   },
   {
    "duration": 195,
    "start_time": "2024-10-09T10:12:46.049Z"
   },
   {
    "duration": 181,
    "start_time": "2024-10-09T10:12:53.947Z"
   },
   {
    "duration": 232,
    "start_time": "2024-10-09T10:13:41.211Z"
   },
   {
    "duration": 251,
    "start_time": "2024-10-09T10:14:20.222Z"
   },
   {
    "duration": 170,
    "start_time": "2024-10-09T10:17:48.848Z"
   },
   {
    "duration": 2293,
    "start_time": "2024-10-09T10:18:16.339Z"
   },
   {
    "duration": 2209,
    "start_time": "2024-10-09T10:18:36.811Z"
   },
   {
    "duration": 2204,
    "start_time": "2024-10-09T10:18:52.672Z"
   },
   {
    "duration": 1366,
    "start_time": "2024-10-09T10:21:49.173Z"
   },
   {
    "duration": 571,
    "start_time": "2024-10-09T10:21:50.541Z"
   },
   {
    "duration": 44,
    "start_time": "2024-10-09T10:21:51.113Z"
   },
   {
    "duration": 17,
    "start_time": "2024-10-09T10:21:51.159Z"
   },
   {
    "duration": 138,
    "start_time": "2024-10-09T10:21:51.180Z"
   },
   {
    "duration": 52,
    "start_time": "2024-10-09T10:21:51.319Z"
   },
   {
    "duration": 12,
    "start_time": "2024-10-09T10:21:51.373Z"
   },
   {
    "duration": 4,
    "start_time": "2024-10-09T10:21:51.387Z"
   },
   {
    "duration": 31,
    "start_time": "2024-10-09T10:21:51.393Z"
   },
   {
    "duration": 7,
    "start_time": "2024-10-09T10:21:51.425Z"
   },
   {
    "duration": 37,
    "start_time": "2024-10-09T10:21:51.433Z"
   },
   {
    "duration": 3,
    "start_time": "2024-10-09T10:21:51.472Z"
   },
   {
    "duration": 5,
    "start_time": "2024-10-09T10:21:51.477Z"
   },
   {
    "duration": 4,
    "start_time": "2024-10-09T10:21:51.485Z"
   },
   {
    "duration": 802,
    "start_time": "2024-10-09T10:21:51.491Z"
   },
   {
    "duration": 747,
    "start_time": "2024-10-09T10:21:52.295Z"
   },
   {
    "duration": 30,
    "start_time": "2024-10-09T10:21:53.043Z"
   },
   {
    "duration": 9,
    "start_time": "2024-10-09T10:21:53.075Z"
   },
   {
    "duration": 8,
    "start_time": "2024-10-09T10:21:53.087Z"
   },
   {
    "duration": 6,
    "start_time": "2024-10-09T10:21:53.097Z"
   },
   {
    "duration": 5,
    "start_time": "2024-10-09T10:21:53.104Z"
   },
   {
    "duration": 6,
    "start_time": "2024-10-09T10:21:53.111Z"
   },
   {
    "duration": 3,
    "start_time": "2024-10-09T10:21:53.119Z"
   },
   {
    "duration": 51,
    "start_time": "2024-10-09T10:21:53.124Z"
   },
   {
    "duration": 30,
    "start_time": "2024-10-09T10:21:53.176Z"
   },
   {
    "duration": 8,
    "start_time": "2024-10-09T10:21:53.208Z"
   },
   {
    "duration": 26,
    "start_time": "2024-10-09T10:21:53.217Z"
   },
   {
    "duration": 27,
    "start_time": "2024-10-09T10:21:53.245Z"
   },
   {
    "duration": 225,
    "start_time": "2024-10-09T10:21:53.274Z"
   },
   {
    "duration": 167,
    "start_time": "2024-10-09T10:21:53.500Z"
   },
   {
    "duration": 162,
    "start_time": "2024-10-09T10:21:53.670Z"
   },
   {
    "duration": 205,
    "start_time": "2024-10-09T10:21:53.834Z"
   },
   {
    "duration": 316,
    "start_time": "2024-10-09T10:21:54.041Z"
   },
   {
    "duration": 100,
    "start_time": "2024-10-09T10:21:54.359Z"
   },
   {
    "duration": 217,
    "start_time": "2024-10-09T10:21:54.460Z"
   },
   {
    "duration": 268,
    "start_time": "2024-10-09T10:21:54.679Z"
   },
   {
    "duration": 140166,
    "start_time": "2024-10-09T10:21:54.949Z"
   },
   {
    "duration": 202,
    "start_time": "2024-10-09T10:24:17.480Z"
   },
   {
    "duration": 0,
    "start_time": "2024-10-09T10:24:17.685Z"
   },
   {
    "duration": 0,
    "start_time": "2024-10-09T10:24:17.686Z"
   },
   {
    "duration": 0,
    "start_time": "2024-10-09T10:24:17.687Z"
   },
   {
    "duration": 1350,
    "start_time": "2024-10-09T10:24:41.739Z"
   },
   {
    "duration": 561,
    "start_time": "2024-10-09T10:24:43.091Z"
   },
   {
    "duration": 49,
    "start_time": "2024-10-09T10:24:43.654Z"
   },
   {
    "duration": 9,
    "start_time": "2024-10-09T10:24:43.705Z"
   },
   {
    "duration": 145,
    "start_time": "2024-10-09T10:24:43.716Z"
   },
   {
    "duration": 49,
    "start_time": "2024-10-09T10:24:43.863Z"
   },
   {
    "duration": 13,
    "start_time": "2024-10-09T10:24:43.913Z"
   },
   {
    "duration": 4,
    "start_time": "2024-10-09T10:24:43.927Z"
   },
   {
    "duration": 54,
    "start_time": "2024-10-09T10:24:43.933Z"
   },
   {
    "duration": 6,
    "start_time": "2024-10-09T10:24:43.989Z"
   },
   {
    "duration": 4,
    "start_time": "2024-10-09T10:24:43.997Z"
   },
   {
    "duration": 4,
    "start_time": "2024-10-09T10:24:44.002Z"
   },
   {
    "duration": 4,
    "start_time": "2024-10-09T10:24:44.007Z"
   },
   {
    "duration": 3,
    "start_time": "2024-10-09T10:24:44.015Z"
   },
   {
    "duration": 790,
    "start_time": "2024-10-09T10:24:44.019Z"
   },
   {
    "duration": 759,
    "start_time": "2024-10-09T10:24:44.811Z"
   },
   {
    "duration": 19,
    "start_time": "2024-10-09T10:24:45.572Z"
   },
   {
    "duration": 8,
    "start_time": "2024-10-09T10:24:45.593Z"
   },
   {
    "duration": 7,
    "start_time": "2024-10-09T10:24:45.603Z"
   },
   {
    "duration": 6,
    "start_time": "2024-10-09T10:24:45.612Z"
   },
   {
    "duration": 4,
    "start_time": "2024-10-09T10:24:45.619Z"
   },
   {
    "duration": 6,
    "start_time": "2024-10-09T10:24:45.625Z"
   },
   {
    "duration": 40,
    "start_time": "2024-10-09T10:24:45.632Z"
   },
   {
    "duration": 16,
    "start_time": "2024-10-09T10:24:45.673Z"
   },
   {
    "duration": 31,
    "start_time": "2024-10-09T10:24:45.691Z"
   },
   {
    "duration": 7,
    "start_time": "2024-10-09T10:24:45.723Z"
   },
   {
    "duration": 50,
    "start_time": "2024-10-09T10:24:45.732Z"
   },
   {
    "duration": 6,
    "start_time": "2024-10-09T10:24:45.785Z"
   },
   {
    "duration": 229,
    "start_time": "2024-10-09T10:24:45.792Z"
   },
   {
    "duration": 174,
    "start_time": "2024-10-09T10:24:46.023Z"
   },
   {
    "duration": 182,
    "start_time": "2024-10-09T10:24:46.199Z"
   },
   {
    "duration": 210,
    "start_time": "2024-10-09T10:24:46.383Z"
   },
   {
    "duration": 285,
    "start_time": "2024-10-09T10:24:46.595Z"
   },
   {
    "duration": 101,
    "start_time": "2024-10-09T10:24:46.882Z"
   },
   {
    "duration": 247,
    "start_time": "2024-10-09T10:24:46.985Z"
   },
   {
    "duration": 276,
    "start_time": "2024-10-09T10:24:47.234Z"
   },
   {
    "duration": 2311,
    "start_time": "2024-10-09T10:24:47.512Z"
   },
   {
    "duration": 35,
    "start_time": "2024-10-09T10:24:49.825Z"
   },
   {
    "duration": 159,
    "start_time": "2024-10-09T10:26:15.601Z"
   },
   {
    "duration": 161,
    "start_time": "2024-10-09T10:26:36.302Z"
   },
   {
    "duration": 249,
    "start_time": "2024-10-09T10:26:36.787Z"
   },
   {
    "duration": 1714,
    "start_time": "2024-10-09T10:26:44.251Z"
   },
   {
    "duration": 572,
    "start_time": "2024-10-09T10:26:45.967Z"
   },
   {
    "duration": 49,
    "start_time": "2024-10-09T10:26:46.546Z"
   },
   {
    "duration": 8,
    "start_time": "2024-10-09T10:26:46.599Z"
   },
   {
    "duration": 154,
    "start_time": "2024-10-09T10:26:46.608Z"
   },
   {
    "duration": 48,
    "start_time": "2024-10-09T10:26:46.764Z"
   },
   {
    "duration": 12,
    "start_time": "2024-10-09T10:26:46.814Z"
   },
   {
    "duration": 3,
    "start_time": "2024-10-09T10:26:46.827Z"
   },
   {
    "duration": 56,
    "start_time": "2024-10-09T10:26:46.832Z"
   },
   {
    "duration": 6,
    "start_time": "2024-10-09T10:26:46.891Z"
   },
   {
    "duration": 4,
    "start_time": "2024-10-09T10:26:46.898Z"
   },
   {
    "duration": 3,
    "start_time": "2024-10-09T10:26:46.903Z"
   },
   {
    "duration": 3,
    "start_time": "2024-10-09T10:26:46.908Z"
   },
   {
    "duration": 3,
    "start_time": "2024-10-09T10:26:46.913Z"
   },
   {
    "duration": 832,
    "start_time": "2024-10-09T10:26:46.918Z"
   },
   {
    "duration": 721,
    "start_time": "2024-10-09T10:26:47.752Z"
   },
   {
    "duration": 19,
    "start_time": "2024-10-09T10:26:48.475Z"
   },
   {
    "duration": 8,
    "start_time": "2024-10-09T10:26:48.496Z"
   },
   {
    "duration": 9,
    "start_time": "2024-10-09T10:26:48.505Z"
   },
   {
    "duration": 5,
    "start_time": "2024-10-09T10:26:48.516Z"
   },
   {
    "duration": 4,
    "start_time": "2024-10-09T10:26:48.522Z"
   },
   {
    "duration": 5,
    "start_time": "2024-10-09T10:26:48.528Z"
   },
   {
    "duration": 3,
    "start_time": "2024-10-09T10:26:48.569Z"
   },
   {
    "duration": 15,
    "start_time": "2024-10-09T10:26:48.575Z"
   },
   {
    "duration": 30,
    "start_time": "2024-10-09T10:26:48.592Z"
   },
   {
    "duration": 7,
    "start_time": "2024-10-09T10:26:48.624Z"
   },
   {
    "duration": 55,
    "start_time": "2024-10-09T10:26:48.632Z"
   },
   {
    "duration": 5,
    "start_time": "2024-10-09T10:26:48.690Z"
   },
   {
    "duration": 233,
    "start_time": "2024-10-09T10:26:48.697Z"
   },
   {
    "duration": 173,
    "start_time": "2024-10-09T10:26:48.932Z"
   },
   {
    "duration": 215,
    "start_time": "2024-10-09T10:26:49.107Z"
   },
   {
    "duration": 209,
    "start_time": "2024-10-09T10:26:49.324Z"
   },
   {
    "duration": 321,
    "start_time": "2024-10-09T10:26:49.535Z"
   },
   {
    "duration": 104,
    "start_time": "2024-10-09T10:26:49.858Z"
   },
   {
    "duration": 208,
    "start_time": "2024-10-09T10:26:49.964Z"
   },
   {
    "duration": 272,
    "start_time": "2024-10-09T10:26:50.174Z"
   },
   {
    "duration": 23916,
    "start_time": "2024-10-09T10:26:50.447Z"
   },
   {
    "duration": 2353,
    "start_time": "2024-10-09T10:27:14.366Z"
   },
   {
    "duration": 37,
    "start_time": "2024-10-09T10:27:16.721Z"
   },
   {
    "duration": 6,
    "start_time": "2024-10-09T10:27:54.796Z"
   },
   {
    "duration": 24716,
    "start_time": "2024-10-09T10:28:22.760Z"
   },
   {
    "duration": 24677,
    "start_time": "2024-10-09T10:29:01.649Z"
   },
   {
    "duration": 618,
    "start_time": "2024-10-09T10:29:54.782Z"
   },
   {
    "duration": 24681,
    "start_time": "2024-10-09T10:30:49.726Z"
   },
   {
    "duration": 1065,
    "start_time": "2024-10-09T10:33:59.134Z"
   },
   {
    "duration": 389,
    "start_time": "2024-10-09T10:34:51.341Z"
   },
   {
    "duration": 5,
    "start_time": "2024-10-09T10:37:09.753Z"
   },
   {
    "duration": 612,
    "start_time": "2024-10-09T10:37:25.820Z"
   },
   {
    "duration": 87,
    "start_time": "2024-10-09T10:38:01.735Z"
   },
   {
    "duration": 446,
    "start_time": "2024-10-09T10:39:51.309Z"
   },
   {
    "duration": 227,
    "start_time": "2024-10-09T10:41:18.455Z"
   },
   {
    "duration": 2407,
    "start_time": "2024-10-09T10:48:35.443Z"
   },
   {
    "duration": 2332,
    "start_time": "2024-10-09T10:49:31.607Z"
   },
   {
    "duration": 2512,
    "start_time": "2024-10-09T10:50:40.747Z"
   },
   {
    "duration": 272,
    "start_time": "2024-10-09T10:53:13.384Z"
   }
  ],
  "colab": {
   "provenance": []
  },
  "kernelspec": {
   "display_name": "Python 3 (ipykernel)",
   "language": "python",
   "name": "python3"
  },
  "language_info": {
   "codemirror_mode": {
    "name": "ipython",
    "version": 3
   },
   "file_extension": ".py",
   "mimetype": "text/x-python",
   "name": "python",
   "nbconvert_exporter": "python",
   "pygments_lexer": "ipython3",
   "version": "3.9.19"
  },
  "toc": {
   "base_numbering": 1,
   "nav_menu": {},
   "number_sections": true,
   "sideBar": true,
   "skip_h1_title": true,
   "title_cell": "Table of Contents",
   "title_sidebar": "Contents",
   "toc_cell": false,
   "toc_position": {
    "height": "calc(100% - 180px)",
    "left": "10px",
    "top": "150px",
    "width": "252px"
   },
   "toc_section_display": true,
   "toc_window_display": true
  },
  "vscode": {
   "interpreter": {
    "hash": "01a7be9ec63e704a62cefc5fe7a4756944464ee731be31632bdf42a4cb4688cf"
   }
  }
 },
 "nbformat": 4,
 "nbformat_minor": 5
}
